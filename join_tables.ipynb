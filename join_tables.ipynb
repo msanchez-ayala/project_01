{
 "cells": [
  {
   "cell_type": "markdown",
   "metadata": {},
   "source": [
    "# Connect to database to run queries"
   ]
  },
  {
   "cell_type": "code",
   "execution_count": 2,
   "metadata": {},
   "outputs": [],
   "source": [
    "import mysql.connector\n",
    "import config\n",
    "import pandas as pd\n",
    "import matplotlib.pyplot as plt\n",
    "import numpy as np\n",
    "%matplotlib inline"
   ]
  },
  {
   "cell_type": "code",
   "execution_count": 3,
   "metadata": {},
   "outputs": [],
   "source": [
    "cnx = mysql.connector.connect(\n",
    "        host = config.host,\n",
    "        user = config.user,\n",
    "        password = config.password,\n",
    "        database = 'movies'\n",
    ")\n",
    "cursor = cnx.cursor(buffered=True)"
   ]
  },
  {
   "cell_type": "markdown",
   "metadata": {},
   "source": [
    "Run query to join tables on IMDB_id"
   ]
  },
  {
   "cell_type": "code",
   "execution_count": 4,
   "metadata": {},
   "outputs": [],
   "source": [
    "cursor.execute(\"\"\"\n",
    "SELECT\n",
    "\ti.imdb_id,\n",
    "    title,\n",
    "    revenue,\n",
    "    budget,\n",
    "    roi,\n",
    "    imdb_rank,\n",
    "    imdb_score,\n",
    "    release_date\n",
    "FROM\n",
    "    movies.imdb_horror i\n",
    "INNER JOIN\n",
    "    movies.tmdb t\n",
    "ON\n",
    "    i.imdb_id = t.imdb_id\n",
    "ORDER BY\n",
    "\trelease_date\n",
    ";\n",
    "\"\"\")"
   ]
  },
  {
   "cell_type": "code",
   "execution_count": 5,
   "metadata": {},
   "outputs": [],
   "source": [
    "horror_data = cursor.fetchall()\n",
    "column_names = ['imdb_id', 'title', 'revenue', 'budget', 'roi', 'imdb_rank', 'imdb_score', 'release_date']\n",
    "df_horror = pd.DataFrame(horror_data,columns=column_names)"
   ]
  },
  {
   "cell_type": "code",
   "execution_count": 6,
   "metadata": {
    "scrolled": false
   },
   "outputs": [
    {
     "data": {
      "text/html": [
       "<div>\n",
       "<style scoped>\n",
       "    .dataframe tbody tr th:only-of-type {\n",
       "        vertical-align: middle;\n",
       "    }\n",
       "\n",
       "    .dataframe tbody tr th {\n",
       "        vertical-align: top;\n",
       "    }\n",
       "\n",
       "    .dataframe thead th {\n",
       "        text-align: right;\n",
       "    }\n",
       "</style>\n",
       "<table border=\"1\" class=\"dataframe\">\n",
       "  <thead>\n",
       "    <tr style=\"text-align: right;\">\n",
       "      <th></th>\n",
       "      <th>imdb_id</th>\n",
       "      <th>title</th>\n",
       "      <th>revenue</th>\n",
       "      <th>budget</th>\n",
       "      <th>roi</th>\n",
       "      <th>imdb_rank</th>\n",
       "      <th>imdb_score</th>\n",
       "      <th>release_date</th>\n",
       "    </tr>\n",
       "  </thead>\n",
       "  <tbody>\n",
       "    <tr>\n",
       "      <td>0</td>\n",
       "      <td>tt0021884</td>\n",
       "      <td>Frankenstein</td>\n",
       "      <td>12000000</td>\n",
       "      <td>291000</td>\n",
       "      <td>4023.71</td>\n",
       "      <td>389</td>\n",
       "      <td>7.8</td>\n",
       "      <td>1931-11-21</td>\n",
       "    </tr>\n",
       "    <tr>\n",
       "      <td>1</td>\n",
       "      <td>tt0022835</td>\n",
       "      <td>Dr. Jekyll and Mr. Hyde</td>\n",
       "      <td>1250000</td>\n",
       "      <td>535000</td>\n",
       "      <td>133.64</td>\n",
       "      <td>1404</td>\n",
       "      <td>7.6</td>\n",
       "      <td>1931-12-31</td>\n",
       "    </tr>\n",
       "    <tr>\n",
       "      <td>2</td>\n",
       "      <td>tt0024216</td>\n",
       "      <td>King Kong</td>\n",
       "      <td>10000000</td>\n",
       "      <td>672000</td>\n",
       "      <td>1388.10</td>\n",
       "      <td>703</td>\n",
       "      <td>7.9</td>\n",
       "      <td>1933-04-07</td>\n",
       "    </tr>\n",
       "    <tr>\n",
       "      <td>3</td>\n",
       "      <td>tt0024894</td>\n",
       "      <td>The Black Cat</td>\n",
       "      <td>236000</td>\n",
       "      <td>95745</td>\n",
       "      <td>146.49</td>\n",
       "      <td>1039</td>\n",
       "      <td>7.0</td>\n",
       "      <td>1934-05-07</td>\n",
       "    </tr>\n",
       "    <tr>\n",
       "      <td>4</td>\n",
       "      <td>tt0034587</td>\n",
       "      <td>Cat People</td>\n",
       "      <td>4000000</td>\n",
       "      <td>134000</td>\n",
       "      <td>2885.07</td>\n",
       "      <td>1087</td>\n",
       "      <td>7.3</td>\n",
       "      <td>1942-12-05</td>\n",
       "    </tr>\n",
       "    <tr>\n",
       "      <td>...</td>\n",
       "      <td>...</td>\n",
       "      <td>...</td>\n",
       "      <td>...</td>\n",
       "      <td>...</td>\n",
       "      <td>...</td>\n",
       "      <td>...</td>\n",
       "      <td>...</td>\n",
       "      <td>...</td>\n",
       "    </tr>\n",
       "    <tr>\n",
       "      <td>693</td>\n",
       "      <td>tt10550884</td>\n",
       "      <td>The Divine Fury</td>\n",
       "      <td>11750306</td>\n",
       "      <td>0</td>\n",
       "      <td>0.00</td>\n",
       "      <td>1824</td>\n",
       "      <td>6.3</td>\n",
       "      <td>2019-07-31</td>\n",
       "    </tr>\n",
       "    <tr>\n",
       "      <td>694</td>\n",
       "      <td>tt3387520</td>\n",
       "      <td>Scary Stories to Tell in the Dark</td>\n",
       "      <td>95438172</td>\n",
       "      <td>25000000</td>\n",
       "      <td>281.75</td>\n",
       "      <td>12</td>\n",
       "      <td>6.3</td>\n",
       "      <td>2019-08-08</td>\n",
       "    </tr>\n",
       "    <tr>\n",
       "      <td>695</td>\n",
       "      <td>tt7349950</td>\n",
       "      <td>It Chapter Two</td>\n",
       "      <td>447554518</td>\n",
       "      <td>79000000</td>\n",
       "      <td>466.52</td>\n",
       "      <td>5</td>\n",
       "      <td>6.8</td>\n",
       "      <td>2019-09-04</td>\n",
       "    </tr>\n",
       "    <tr>\n",
       "      <td>696</td>\n",
       "      <td>tt10521814</td>\n",
       "      <td>K-12</td>\n",
       "      <td>359377</td>\n",
       "      <td>1000000</td>\n",
       "      <td>-64.06</td>\n",
       "      <td>755</td>\n",
       "      <td>6.6</td>\n",
       "      <td>2019-09-05</td>\n",
       "    </tr>\n",
       "    <tr>\n",
       "      <td>697</td>\n",
       "      <td>tt1560220</td>\n",
       "      <td>Zombieland: Double Tap</td>\n",
       "      <td>32000000</td>\n",
       "      <td>48000000</td>\n",
       "      <td>-33.33</td>\n",
       "      <td>1</td>\n",
       "      <td>7.2</td>\n",
       "      <td>2019-10-09</td>\n",
       "    </tr>\n",
       "  </tbody>\n",
       "</table>\n",
       "<p>698 rows × 8 columns</p>\n",
       "</div>"
      ],
      "text/plain": [
       "        imdb_id                              title    revenue    budget  \\\n",
       "0     tt0021884                       Frankenstein   12000000    291000   \n",
       "1     tt0022835            Dr. Jekyll and Mr. Hyde    1250000    535000   \n",
       "2     tt0024216                          King Kong   10000000    672000   \n",
       "3     tt0024894                      The Black Cat     236000     95745   \n",
       "4     tt0034587                         Cat People    4000000    134000   \n",
       "..          ...                                ...        ...       ...   \n",
       "693  tt10550884                    The Divine Fury   11750306         0   \n",
       "694   tt3387520  Scary Stories to Tell in the Dark   95438172  25000000   \n",
       "695   tt7349950                     It Chapter Two  447554518  79000000   \n",
       "696  tt10521814                               K-12     359377   1000000   \n",
       "697   tt1560220             Zombieland: Double Tap   32000000  48000000   \n",
       "\n",
       "         roi  imdb_rank  imdb_score release_date  \n",
       "0    4023.71        389         7.8   1931-11-21  \n",
       "1     133.64       1404         7.6   1931-12-31  \n",
       "2    1388.10        703         7.9   1933-04-07  \n",
       "3     146.49       1039         7.0   1934-05-07  \n",
       "4    2885.07       1087         7.3   1942-12-05  \n",
       "..       ...        ...         ...          ...  \n",
       "693     0.00       1824         6.3   2019-07-31  \n",
       "694   281.75         12         6.3   2019-08-08  \n",
       "695   466.52          5         6.8   2019-09-04  \n",
       "696   -64.06        755         6.6   2019-09-05  \n",
       "697   -33.33          1         7.2   2019-10-09  \n",
       "\n",
       "[698 rows x 8 columns]"
      ]
     },
     "execution_count": 6,
     "metadata": {},
     "output_type": "execute_result"
    }
   ],
   "source": [
    "df_horror"
   ]
  },
  {
   "cell_type": "code",
   "execution_count": 7,
   "metadata": {},
   "outputs": [],
   "source": [
    "df_horror['release_year'] = df_horror['release_date'].str[:4]"
   ]
  },
  {
   "cell_type": "code",
   "execution_count": 8,
   "metadata": {},
   "outputs": [
    {
     "data": {
      "text/plain": [
       "0     1931-11-21\n",
       "1     1931-12-31\n",
       "2     1933-04-07\n",
       "3     1934-05-07\n",
       "4     1942-12-05\n",
       "         ...    \n",
       "693   2019-07-31\n",
       "694   2019-08-08\n",
       "695   2019-09-04\n",
       "696   2019-09-05\n",
       "697   2019-10-09\n",
       "Name: release_date, Length: 698, dtype: datetime64[ns]"
      ]
     },
     "execution_count": 8,
     "metadata": {},
     "output_type": "execute_result"
    }
   ],
   "source": [
    "pd.to_datetime(df_horror['release_date'], format = '%Y-%m-%d')"
   ]
  },
  {
   "cell_type": "code",
   "execution_count": 9,
   "metadata": {
    "scrolled": false
   },
   "outputs": [],
   "source": [
    "horror_line_graph_data = df_horror.groupby(pd.to_datetime(df_horror['release_year'], format = '%Y'))['revenue'].mean()"
   ]
  },
  {
   "cell_type": "code",
   "execution_count": 10,
   "metadata": {},
   "outputs": [],
   "source": [
    "cursor.execute(\"\"\"\n",
    "SELECT\n",
    "\timdb_id,\n",
    "    title,\n",
    "    revenue,\n",
    "    roi,\n",
    "    release_date\n",
    "FROM\n",
    "    movies.tmdb\n",
    "WHERE\n",
    "    budget > 50000\n",
    "AND\n",
    "    roi < 0\n",
    "ORDER BY\n",
    "\troi\n",
    ";\n",
    "\"\"\")"
   ]
  },
  {
   "cell_type": "code",
   "execution_count": 11,
   "metadata": {},
   "outputs": [
    {
     "data": {
      "text/html": [
       "<div>\n",
       "<style scoped>\n",
       "    .dataframe tbody tr th:only-of-type {\n",
       "        vertical-align: middle;\n",
       "    }\n",
       "\n",
       "    .dataframe tbody tr th {\n",
       "        vertical-align: top;\n",
       "    }\n",
       "\n",
       "    .dataframe thead th {\n",
       "        text-align: right;\n",
       "    }\n",
       "</style>\n",
       "<table border=\"1\" class=\"dataframe\">\n",
       "  <thead>\n",
       "    <tr style=\"text-align: right;\">\n",
       "      <th></th>\n",
       "      <th>imdb_id</th>\n",
       "      <th>title</th>\n",
       "      <th>revenue</th>\n",
       "      <th>roi</th>\n",
       "      <th>release_date</th>\n",
       "    </tr>\n",
       "  </thead>\n",
       "  <tbody>\n",
       "    <tr>\n",
       "      <td>0</td>\n",
       "      <td>None</td>\n",
       "      <td>The Notorious Benedict Arnold</td>\n",
       "      <td>2</td>\n",
       "      <td>-100.00</td>\n",
       "      <td>2017-01-12</td>\n",
       "    </tr>\n",
       "    <tr>\n",
       "      <td>1</td>\n",
       "      <td>tt0285531</td>\n",
       "      <td>Dreamcatcher</td>\n",
       "      <td>75</td>\n",
       "      <td>-100.00</td>\n",
       "      <td>2003-03-21</td>\n",
       "    </tr>\n",
       "    <tr>\n",
       "      <td>2</td>\n",
       "      <td>tt0486619</td>\n",
       "      <td>Lynch Mob</td>\n",
       "      <td>40</td>\n",
       "      <td>-99.99</td>\n",
       "      <td>2009-09-18</td>\n",
       "    </tr>\n",
       "    <tr>\n",
       "      <td>3</td>\n",
       "      <td>tt1603257</td>\n",
       "      <td>ATM</td>\n",
       "      <td>3010</td>\n",
       "      <td>-99.90</td>\n",
       "      <td>2012-02-17</td>\n",
       "    </tr>\n",
       "    <tr>\n",
       "      <td>4</td>\n",
       "      <td>tt1785635</td>\n",
       "      <td>The Vault</td>\n",
       "      <td>5728</td>\n",
       "      <td>-99.89</td>\n",
       "      <td>2017-09-01</td>\n",
       "    </tr>\n",
       "  </tbody>\n",
       "</table>\n",
       "</div>"
      ],
      "text/plain": [
       "     imdb_id                          title  revenue     roi release_date\n",
       "0       None  The Notorious Benedict Arnold        2 -100.00   2017-01-12\n",
       "1  tt0285531                   Dreamcatcher       75 -100.00   2003-03-21\n",
       "2  tt0486619                      Lynch Mob       40  -99.99   2009-09-18\n",
       "3  tt1603257                            ATM     3010  -99.90   2012-02-17\n",
       "4  tt1785635                      The Vault     5728  -99.89   2017-09-01"
      ]
     },
     "execution_count": 11,
     "metadata": {},
     "output_type": "execute_result"
    }
   ],
   "source": [
    "horror_data2 = cursor.fetchall()\n",
    "column_names = ['imdb_id', 'title', 'revenue', 'roi', 'release_date']\n",
    "df2_horror = pd.DataFrame(horror_data2,columns=column_names)\n",
    "df2_horror.head()"
   ]
  },
  {
   "cell_type": "code",
   "execution_count": 12,
   "metadata": {},
   "outputs": [
    {
     "data": {
      "text/html": [
       "<div>\n",
       "<style scoped>\n",
       "    .dataframe tbody tr th:only-of-type {\n",
       "        vertical-align: middle;\n",
       "    }\n",
       "\n",
       "    .dataframe tbody tr th {\n",
       "        vertical-align: top;\n",
       "    }\n",
       "\n",
       "    .dataframe thead th {\n",
       "        text-align: right;\n",
       "    }\n",
       "</style>\n",
       "<table border=\"1\" class=\"dataframe\">\n",
       "  <thead>\n",
       "    <tr style=\"text-align: right;\">\n",
       "      <th></th>\n",
       "      <th>revenue</th>\n",
       "      <th>roi</th>\n",
       "    </tr>\n",
       "  </thead>\n",
       "  <tbody>\n",
       "    <tr>\n",
       "      <td>count</td>\n",
       "      <td>1.960000e+02</td>\n",
       "      <td>196.000000</td>\n",
       "    </tr>\n",
       "    <tr>\n",
       "      <td>mean</td>\n",
       "      <td>6.617800e+06</td>\n",
       "      <td>-65.633163</td>\n",
       "    </tr>\n",
       "    <tr>\n",
       "      <td>std</td>\n",
       "      <td>1.160469e+07</td>\n",
       "      <td>29.684112</td>\n",
       "    </tr>\n",
       "    <tr>\n",
       "      <td>min</td>\n",
       "      <td>2.000000e+00</td>\n",
       "      <td>-100.000000</td>\n",
       "    </tr>\n",
       "    <tr>\n",
       "      <td>25%</td>\n",
       "      <td>1.750730e+05</td>\n",
       "      <td>-93.165000</td>\n",
       "    </tr>\n",
       "    <tr>\n",
       "      <td>50%</td>\n",
       "      <td>1.140688e+06</td>\n",
       "      <td>-72.550000</td>\n",
       "    </tr>\n",
       "    <tr>\n",
       "      <td>75%</td>\n",
       "      <td>7.962503e+06</td>\n",
       "      <td>-42.497500</td>\n",
       "    </tr>\n",
       "    <tr>\n",
       "      <td>max</td>\n",
       "      <td>7.800059e+07</td>\n",
       "      <td>-0.310000</td>\n",
       "    </tr>\n",
       "  </tbody>\n",
       "</table>\n",
       "</div>"
      ],
      "text/plain": [
       "            revenue         roi\n",
       "count  1.960000e+02  196.000000\n",
       "mean   6.617800e+06  -65.633163\n",
       "std    1.160469e+07   29.684112\n",
       "min    2.000000e+00 -100.000000\n",
       "25%    1.750730e+05  -93.165000\n",
       "50%    1.140688e+06  -72.550000\n",
       "75%    7.962503e+06  -42.497500\n",
       "max    7.800059e+07   -0.310000"
      ]
     },
     "execution_count": 12,
     "metadata": {},
     "output_type": "execute_result"
    }
   ],
   "source": [
    "df2_horror.describe()"
   ]
  },
  {
   "cell_type": "code",
   "execution_count": 13,
   "metadata": {},
   "outputs": [],
   "source": [
    "horror_bar = df2_horror.mean()"
   ]
  },
  {
   "cell_type": "code",
   "execution_count": 14,
   "metadata": {},
   "outputs": [
    {
     "data": {
      "text/plain": [
       "-65.63316326530617"
      ]
     },
     "execution_count": 14,
     "metadata": {},
     "output_type": "execute_result"
    }
   ],
   "source": [
    "horror_bar.roi"
   ]
  },
  {
   "cell_type": "code",
   "execution_count": 20,
   "metadata": {},
   "outputs": [],
   "source": [
    "cursor.execute(\"\"\"\n",
    "SELECT\n",
    "\timdb_id,\n",
    "    title,\n",
    "    revenue,\n",
    "    roi,\n",
    "    release_date\n",
    "FROM\n",
    "    movies.tmdb_comedy\n",
    "WHERE\n",
    "    budget > 50000\n",
    "ORDER BY\n",
    "\trelease_date\n",
    ";\n",
    "\"\"\")"
   ]
  },
  {
   "cell_type": "code",
   "execution_count": 21,
   "metadata": {},
   "outputs": [
    {
     "data": {
      "text/html": [
       "<div>\n",
       "<style scoped>\n",
       "    .dataframe tbody tr th:only-of-type {\n",
       "        vertical-align: middle;\n",
       "    }\n",
       "\n",
       "    .dataframe tbody tr th {\n",
       "        vertical-align: top;\n",
       "    }\n",
       "\n",
       "    .dataframe thead th {\n",
       "        text-align: right;\n",
       "    }\n",
       "</style>\n",
       "<table border=\"1\" class=\"dataframe\">\n",
       "  <thead>\n",
       "    <tr style=\"text-align: right;\">\n",
       "      <th></th>\n",
       "      <th>imdb_id</th>\n",
       "      <th>title</th>\n",
       "      <th>revenue</th>\n",
       "      <th>roi</th>\n",
       "      <th>release_date</th>\n",
       "    </tr>\n",
       "  </thead>\n",
       "  <tbody>\n",
       "    <tr>\n",
       "      <td>0</td>\n",
       "      <td>tt0031679</td>\n",
       "      <td>Mr. Smith Goes to Washington</td>\n",
       "      <td>9600000</td>\n",
       "      <td>540.00</td>\n",
       "      <td>1939-10-19</td>\n",
       "    </tr>\n",
       "    <tr>\n",
       "      <td>1</td>\n",
       "      <td>tt0032553</td>\n",
       "      <td>The Great Dictator</td>\n",
       "      <td>11000000</td>\n",
       "      <td>450.00</td>\n",
       "      <td>1940-10-15</td>\n",
       "    </tr>\n",
       "    <tr>\n",
       "      <td>2</td>\n",
       "      <td>tt0044672</td>\n",
       "      <td>The Greatest Show on Earth</td>\n",
       "      <td>36000000</td>\n",
       "      <td>800.00</td>\n",
       "      <td>1952-01-10</td>\n",
       "    </tr>\n",
       "    <tr>\n",
       "      <td>3</td>\n",
       "      <td>tt0046250</td>\n",
       "      <td>Roman Holiday</td>\n",
       "      <td>12000000</td>\n",
       "      <td>700.00</td>\n",
       "      <td>1953-08-26</td>\n",
       "    </tr>\n",
       "    <tr>\n",
       "      <td>4</td>\n",
       "      <td>tt0047437</td>\n",
       "      <td>Sabrina</td>\n",
       "      <td>10000000</td>\n",
       "      <td>346.67</td>\n",
       "      <td>1954-09-28</td>\n",
       "    </tr>\n",
       "  </tbody>\n",
       "</table>\n",
       "</div>"
      ],
      "text/plain": [
       "     imdb_id                         title   revenue     roi release_date\n",
       "0  tt0031679  Mr. Smith Goes to Washington   9600000  540.00   1939-10-19\n",
       "1  tt0032553            The Great Dictator  11000000  450.00   1940-10-15\n",
       "2  tt0044672    The Greatest Show on Earth  36000000  800.00   1952-01-10\n",
       "3  tt0046250                 Roman Holiday  12000000  700.00   1953-08-26\n",
       "4  tt0047437                       Sabrina  10000000  346.67   1954-09-28"
      ]
     },
     "execution_count": 21,
     "metadata": {},
     "output_type": "execute_result"
    }
   ],
   "source": [
    "comedy_data = cursor.fetchall()\n",
    "column_names = ['imdb_id', 'title', 'revenue', 'roi', 'release_date']\n",
    "df_comedy = pd.DataFrame(comedy_data,columns=column_names)\n",
    "df_comedy.head()"
   ]
  },
  {
   "cell_type": "code",
   "execution_count": 22,
   "metadata": {},
   "outputs": [],
   "source": [
    "df_comedy['release_year'] = df_comedy['release_date'].str[:4]"
   ]
  },
  {
   "cell_type": "code",
   "execution_count": 23,
   "metadata": {},
   "outputs": [
    {
     "data": {
      "text/plain": [
       "0      1939-10-19\n",
       "1      1940-10-15\n",
       "2      1952-01-10\n",
       "3      1953-08-26\n",
       "4      1954-09-28\n",
       "          ...    \n",
       "1622   2019-08-14\n",
       "1623   2019-09-19\n",
       "1624   2019-10-09\n",
       "1625   2019-10-10\n",
       "1626   2019-12-06\n",
       "Name: release_date, Length: 1627, dtype: datetime64[ns]"
      ]
     },
     "execution_count": 23,
     "metadata": {},
     "output_type": "execute_result"
    }
   ],
   "source": [
    "pd.to_datetime(df_comedy['release_date'], format = '%Y-%m-%d')"
   ]
  },
  {
   "cell_type": "code",
   "execution_count": 24,
   "metadata": {},
   "outputs": [],
   "source": [
    "comedy_line_graph_data = df_comedy.groupby(pd.to_datetime(df_comedy['release_year'], format = '%Y'))['revenue'].mean()"
   ]
  },
  {
   "cell_type": "code",
   "execution_count": 25,
   "metadata": {},
   "outputs": [],
   "source": [
    "cursor.execute(\"\"\"\n",
    "SELECT\n",
    "\timdb_id,\n",
    "    title,\n",
    "    revenue,\n",
    "    roi,\n",
    "    release_date\n",
    "FROM\n",
    "    movies.tmdb_comedy\n",
    "WHERE\n",
    "    budget > 50000\n",
    "AND\n",
    "    roi < 0\n",
    "ORDER BY\n",
    "\troi\n",
    ";\n",
    "\"\"\")"
   ]
  },
  {
   "cell_type": "code",
   "execution_count": 26,
   "metadata": {
    "scrolled": false
   },
   "outputs": [
    {
     "data": {
      "text/html": [
       "<div>\n",
       "<style scoped>\n",
       "    .dataframe tbody tr th:only-of-type {\n",
       "        vertical-align: middle;\n",
       "    }\n",
       "\n",
       "    .dataframe tbody tr th {\n",
       "        vertical-align: top;\n",
       "    }\n",
       "\n",
       "    .dataframe thead th {\n",
       "        text-align: right;\n",
       "    }\n",
       "</style>\n",
       "<table border=\"1\" class=\"dataframe\">\n",
       "  <thead>\n",
       "    <tr style=\"text-align: right;\">\n",
       "      <th></th>\n",
       "      <th>imdb_id</th>\n",
       "      <th>title</th>\n",
       "      <th>revenue</th>\n",
       "      <th>roi</th>\n",
       "      <th>release_date</th>\n",
       "    </tr>\n",
       "  </thead>\n",
       "  <tbody>\n",
       "    <tr>\n",
       "      <td>0</td>\n",
       "      <td>tt0141907</td>\n",
       "      <td>Town &amp; Country</td>\n",
       "      <td>10372291</td>\n",
       "      <td>-88.48</td>\n",
       "      <td>2001-04-27</td>\n",
       "    </tr>\n",
       "    <tr>\n",
       "      <td>1</td>\n",
       "      <td>tt2822672</td>\n",
       "      <td>Rock Dog</td>\n",
       "      <td>9420546</td>\n",
       "      <td>-84.30</td>\n",
       "      <td>2016-07-08</td>\n",
       "    </tr>\n",
       "    <tr>\n",
       "      <td>2</td>\n",
       "      <td>tt0163579</td>\n",
       "      <td>Chill Factor</td>\n",
       "      <td>11263966</td>\n",
       "      <td>-83.91</td>\n",
       "      <td>1999-09-01</td>\n",
       "    </tr>\n",
       "    <tr>\n",
       "      <td>3</td>\n",
       "      <td>tt0383060</td>\n",
       "      <td>Zoom</td>\n",
       "      <td>12506188</td>\n",
       "      <td>-83.46</td>\n",
       "      <td>2006-08-11</td>\n",
       "    </tr>\n",
       "    <tr>\n",
       "      <td>4</td>\n",
       "      <td>tt0181739</td>\n",
       "      <td>Osmosis Jones</td>\n",
       "      <td>13596911</td>\n",
       "      <td>-81.87</td>\n",
       "      <td>2001-08-07</td>\n",
       "    </tr>\n",
       "  </tbody>\n",
       "</table>\n",
       "</div>"
      ],
      "text/plain": [
       "     imdb_id           title   revenue    roi release_date\n",
       "0  tt0141907  Town & Country  10372291 -88.48   2001-04-27\n",
       "1  tt2822672        Rock Dog   9420546 -84.30   2016-07-08\n",
       "2  tt0163579    Chill Factor  11263966 -83.91   1999-09-01\n",
       "3  tt0383060            Zoom  12506188 -83.46   2006-08-11\n",
       "4  tt0181739   Osmosis Jones  13596911 -81.87   2001-08-07"
      ]
     },
     "execution_count": 26,
     "metadata": {},
     "output_type": "execute_result"
    }
   ],
   "source": [
    "comedy_data2 = cursor.fetchall()\n",
    "column_names = ['imdb_id', 'title', 'revenue', 'roi', 'release_date']\n",
    "df2_comedy = pd.DataFrame(comedy_data2,columns=column_names)\n",
    "df2_comedy.head()"
   ]
  },
  {
   "cell_type": "code",
   "execution_count": 27,
   "metadata": {},
   "outputs": [
    {
     "data": {
      "text/html": [
       "<div>\n",
       "<style scoped>\n",
       "    .dataframe tbody tr th:only-of-type {\n",
       "        vertical-align: middle;\n",
       "    }\n",
       "\n",
       "    .dataframe tbody tr th {\n",
       "        vertical-align: top;\n",
       "    }\n",
       "\n",
       "    .dataframe thead th {\n",
       "        text-align: right;\n",
       "    }\n",
       "</style>\n",
       "<table border=\"1\" class=\"dataframe\">\n",
       "  <thead>\n",
       "    <tr style=\"text-align: right;\">\n",
       "      <th></th>\n",
       "      <th>revenue</th>\n",
       "      <th>roi</th>\n",
       "    </tr>\n",
       "  </thead>\n",
       "  <tbody>\n",
       "    <tr>\n",
       "      <td>count</td>\n",
       "      <td>2.340000e+02</td>\n",
       "      <td>234.000000</td>\n",
       "    </tr>\n",
       "    <tr>\n",
       "      <td>mean</td>\n",
       "      <td>2.720974e+07</td>\n",
       "      <td>-32.459573</td>\n",
       "    </tr>\n",
       "    <tr>\n",
       "      <td>std</td>\n",
       "      <td>2.100550e+07</td>\n",
       "      <td>21.288690</td>\n",
       "    </tr>\n",
       "    <tr>\n",
       "      <td>min</td>\n",
       "      <td>9.366227e+06</td>\n",
       "      <td>-88.480000</td>\n",
       "    </tr>\n",
       "    <tr>\n",
       "      <td>25%</td>\n",
       "      <td>1.360270e+07</td>\n",
       "      <td>-48.377500</td>\n",
       "    </tr>\n",
       "    <tr>\n",
       "      <td>50%</td>\n",
       "      <td>1.884660e+07</td>\n",
       "      <td>-31.230000</td>\n",
       "    </tr>\n",
       "    <tr>\n",
       "      <td>75%</td>\n",
       "      <td>3.356184e+07</td>\n",
       "      <td>-13.340000</td>\n",
       "    </tr>\n",
       "    <tr>\n",
       "      <td>max</td>\n",
       "      <td>1.730000e+08</td>\n",
       "      <td>-0.120000</td>\n",
       "    </tr>\n",
       "  </tbody>\n",
       "</table>\n",
       "</div>"
      ],
      "text/plain": [
       "            revenue         roi\n",
       "count  2.340000e+02  234.000000\n",
       "mean   2.720974e+07  -32.459573\n",
       "std    2.100550e+07   21.288690\n",
       "min    9.366227e+06  -88.480000\n",
       "25%    1.360270e+07  -48.377500\n",
       "50%    1.884660e+07  -31.230000\n",
       "75%    3.356184e+07  -13.340000\n",
       "max    1.730000e+08   -0.120000"
      ]
     },
     "execution_count": 27,
     "metadata": {},
     "output_type": "execute_result"
    }
   ],
   "source": [
    "df2_comedy.describe()"
   ]
  },
  {
   "cell_type": "code",
   "execution_count": 53,
   "metadata": {},
   "outputs": [
    {
     "data": {
      "text/plain": [
       "-32.45957264957265"
      ]
     },
     "execution_count": 53,
     "metadata": {},
     "output_type": "execute_result"
    }
   ],
   "source": [
    "comedy_bar = df2_comedy.mean()\n",
    "comedy_bar.roi"
   ]
  },
  {
   "cell_type": "code",
   "execution_count": 28,
   "metadata": {},
   "outputs": [],
   "source": [
    "cursor.execute(\"\"\"\n",
    "SELECT\n",
    "\timdb_id,\n",
    "    title,\n",
    "    revenue,\n",
    "    roi,\n",
    "    release_date\n",
    "FROM\n",
    "    movies.tmdb_action\n",
    "WHERE\n",
    "    budget > 50000\n",
    "ORDER BY\n",
    "\trelease_date\n",
    ";\n",
    "\"\"\")"
   ]
  },
  {
   "cell_type": "code",
   "execution_count": 29,
   "metadata": {},
   "outputs": [
    {
     "data": {
      "text/html": [
       "<div>\n",
       "<style scoped>\n",
       "    .dataframe tbody tr th:only-of-type {\n",
       "        vertical-align: middle;\n",
       "    }\n",
       "\n",
       "    .dataframe tbody tr th {\n",
       "        vertical-align: top;\n",
       "    }\n",
       "\n",
       "    .dataframe thead th {\n",
       "        text-align: right;\n",
       "    }\n",
       "</style>\n",
       "<table border=\"1\" class=\"dataframe\">\n",
       "  <thead>\n",
       "    <tr style=\"text-align: right;\">\n",
       "      <th></th>\n",
       "      <th>imdb_id</th>\n",
       "      <th>title</th>\n",
       "      <th>revenue</th>\n",
       "      <th>roi</th>\n",
       "      <th>release_date</th>\n",
       "    </tr>\n",
       "  </thead>\n",
       "  <tbody>\n",
       "    <tr>\n",
       "      <td>0</td>\n",
       "      <td>tt0006333</td>\n",
       "      <td>20,000 Leagues Under the Sea</td>\n",
       "      <td>8000000</td>\n",
       "      <td>3900.00</td>\n",
       "      <td>1916-12-24</td>\n",
       "    </tr>\n",
       "    <tr>\n",
       "      <td>1</td>\n",
       "      <td>tt0020960</td>\n",
       "      <td>Hell's Angels</td>\n",
       "      <td>8000000</td>\n",
       "      <td>102.53</td>\n",
       "      <td>1930-11-15</td>\n",
       "    </tr>\n",
       "    <tr>\n",
       "      <td>2</td>\n",
       "      <td>tt0027438</td>\n",
       "      <td>The Charge of the Light Brigade</td>\n",
       "      <td>2736000</td>\n",
       "      <td>128.00</td>\n",
       "      <td>1936-10-20</td>\n",
       "    </tr>\n",
       "    <tr>\n",
       "      <td>3</td>\n",
       "      <td>tt0029843</td>\n",
       "      <td>The Adventures of Robin Hood</td>\n",
       "      <td>3981000</td>\n",
       "      <td>95.82</td>\n",
       "      <td>1938-05-13</td>\n",
       "    </tr>\n",
       "    <tr>\n",
       "      <td>4</td>\n",
       "      <td>tt0033028</td>\n",
       "      <td>The Sea Hawk</td>\n",
       "      <td>2000000</td>\n",
       "      <td>17.65</td>\n",
       "      <td>1940-07-01</td>\n",
       "    </tr>\n",
       "  </tbody>\n",
       "</table>\n",
       "</div>"
      ],
      "text/plain": [
       "     imdb_id                            title  revenue      roi release_date\n",
       "0  tt0006333     20,000 Leagues Under the Sea  8000000  3900.00   1916-12-24\n",
       "1  tt0020960                    Hell's Angels  8000000   102.53   1930-11-15\n",
       "2  tt0027438  The Charge of the Light Brigade  2736000   128.00   1936-10-20\n",
       "3  tt0029843     The Adventures of Robin Hood  3981000    95.82   1938-05-13\n",
       "4  tt0033028                     The Sea Hawk  2000000    17.65   1940-07-01"
      ]
     },
     "execution_count": 29,
     "metadata": {},
     "output_type": "execute_result"
    }
   ],
   "source": [
    "action_data = cursor.fetchall()\n",
    "column_names = ['imdb_id', 'title', 'revenue', 'roi', 'release_date']\n",
    "df_action = pd.DataFrame(action_data,columns=column_names)\n",
    "df_action.head()"
   ]
  },
  {
   "cell_type": "code",
   "execution_count": 30,
   "metadata": {},
   "outputs": [],
   "source": [
    "df_action.drop([0], axis=0, inplace=True)"
   ]
  },
  {
   "cell_type": "code",
   "execution_count": 31,
   "metadata": {},
   "outputs": [],
   "source": [
    "df_action['release_year'] = df_action['release_date'].str[:4]"
   ]
  },
  {
   "cell_type": "code",
   "execution_count": 32,
   "metadata": {},
   "outputs": [
    {
     "data": {
      "text/plain": [
       "1      1930-11-15\n",
       "2      1936-10-20\n",
       "3      1938-05-13\n",
       "4      1940-07-01\n",
       "5      1948-08-26\n",
       "          ...    \n",
       "1615   2019-08-01\n",
       "1616   2019-08-29\n",
       "1617   2019-09-19\n",
       "1618   2019-10-02\n",
       "1619   2019-10-09\n",
       "Name: release_date, Length: 1619, dtype: datetime64[ns]"
      ]
     },
     "execution_count": 32,
     "metadata": {},
     "output_type": "execute_result"
    }
   ],
   "source": [
    "pd.to_datetime(df_action['release_date'], format = '%Y-%m-%d')"
   ]
  },
  {
   "cell_type": "code",
   "execution_count": 33,
   "metadata": {},
   "outputs": [],
   "source": [
    "action_line_graph_data = df_action.groupby(pd.to_datetime(df_action['release_year'], format = '%Y'))['revenue'].mean()"
   ]
  },
  {
   "cell_type": "code",
   "execution_count": 34,
   "metadata": {},
   "outputs": [],
   "source": [
    "cursor.execute(\"\"\"\n",
    "SELECT\n",
    "\timdb_id,\n",
    "    title,\n",
    "    revenue,\n",
    "    roi,\n",
    "    release_date\n",
    "FROM\n",
    "    movies.tmdb_action\n",
    "WHERE\n",
    "    budget > 50000\n",
    "AND\n",
    "    roi < 0\n",
    "ORDER BY\n",
    "\troi\n",
    ";\n",
    "\"\"\")"
   ]
  },
  {
   "cell_type": "code",
   "execution_count": 35,
   "metadata": {},
   "outputs": [
    {
     "data": {
      "text/html": [
       "<div>\n",
       "<style scoped>\n",
       "    .dataframe tbody tr th:only-of-type {\n",
       "        vertical-align: middle;\n",
       "    }\n",
       "\n",
       "    .dataframe tbody tr th {\n",
       "        vertical-align: top;\n",
       "    }\n",
       "\n",
       "    .dataframe thead th {\n",
       "        text-align: right;\n",
       "    }\n",
       "</style>\n",
       "<table border=\"1\" class=\"dataframe\">\n",
       "  <thead>\n",
       "    <tr style=\"text-align: right;\">\n",
       "      <th></th>\n",
       "      <th>imdb_id</th>\n",
       "      <th>title</th>\n",
       "      <th>revenue</th>\n",
       "      <th>roi</th>\n",
       "      <th>release_date</th>\n",
       "    </tr>\n",
       "  </thead>\n",
       "  <tbody>\n",
       "    <tr>\n",
       "      <td>0</td>\n",
       "      <td>tt5273624</td>\n",
       "      <td>Journey to the West: The Demons Strike Back</td>\n",
       "      <td>731607</td>\n",
       "      <td>-98.84</td>\n",
       "      <td>2017-01-28</td>\n",
       "    </tr>\n",
       "    <tr>\n",
       "      <td>1</td>\n",
       "      <td>tt0411951</td>\n",
       "      <td>TEKKEN</td>\n",
       "      <td>967000</td>\n",
       "      <td>-96.78</td>\n",
       "      <td>2010-03-20</td>\n",
       "    </tr>\n",
       "    <tr>\n",
       "      <td>2</td>\n",
       "      <td>None</td>\n",
       "      <td>Inhumans: The First Chapter</td>\n",
       "      <td>2600000</td>\n",
       "      <td>-96.75</td>\n",
       "      <td>2017-09-01</td>\n",
       "    </tr>\n",
       "    <tr>\n",
       "      <td>3</td>\n",
       "      <td>tt0082525</td>\n",
       "      <td>Honky Tonk Freeway</td>\n",
       "      <td>939423</td>\n",
       "      <td>-96.09</td>\n",
       "      <td>1981-08-21</td>\n",
       "    </tr>\n",
       "    <tr>\n",
       "      <td>4</td>\n",
       "      <td>tt3508840</td>\n",
       "      <td>The Assassin</td>\n",
       "      <td>632542</td>\n",
       "      <td>-95.78</td>\n",
       "      <td>2015-08-27</td>\n",
       "    </tr>\n",
       "  </tbody>\n",
       "</table>\n",
       "</div>"
      ],
      "text/plain": [
       "     imdb_id                                        title  revenue    roi  \\\n",
       "0  tt5273624  Journey to the West: The Demons Strike Back   731607 -98.84   \n",
       "1  tt0411951                                       TEKKEN   967000 -96.78   \n",
       "2       None                  Inhumans: The First Chapter  2600000 -96.75   \n",
       "3  tt0082525                           Honky Tonk Freeway   939423 -96.09   \n",
       "4  tt3508840                                 The Assassin   632542 -95.78   \n",
       "\n",
       "  release_date  \n",
       "0   2017-01-28  \n",
       "1   2010-03-20  \n",
       "2   2017-09-01  \n",
       "3   1981-08-21  \n",
       "4   2015-08-27  "
      ]
     },
     "execution_count": 35,
     "metadata": {},
     "output_type": "execute_result"
    }
   ],
   "source": [
    "action_data2 = cursor.fetchall()\n",
    "column_names = ['imdb_id', 'title', 'revenue', 'roi', 'release_date']\n",
    "df2_action = pd.DataFrame(action_data2,columns=column_names)\n",
    "df2_action.head()"
   ]
  },
  {
   "cell_type": "code",
   "execution_count": 36,
   "metadata": {},
   "outputs": [
    {
     "data": {
      "text/html": [
       "<div>\n",
       "<style scoped>\n",
       "    .dataframe tbody tr th:only-of-type {\n",
       "        vertical-align: middle;\n",
       "    }\n",
       "\n",
       "    .dataframe tbody tr th {\n",
       "        vertical-align: top;\n",
       "    }\n",
       "\n",
       "    .dataframe thead th {\n",
       "        text-align: right;\n",
       "    }\n",
       "</style>\n",
       "<table border=\"1\" class=\"dataframe\">\n",
       "  <thead>\n",
       "    <tr style=\"text-align: right;\">\n",
       "      <th></th>\n",
       "      <th>revenue</th>\n",
       "      <th>roi</th>\n",
       "    </tr>\n",
       "  </thead>\n",
       "  <tbody>\n",
       "    <tr>\n",
       "      <td>count</td>\n",
       "      <td>3.910000e+02</td>\n",
       "      <td>391.000000</td>\n",
       "    </tr>\n",
       "    <tr>\n",
       "      <td>mean</td>\n",
       "      <td>1.885159e+07</td>\n",
       "      <td>-48.635754</td>\n",
       "    </tr>\n",
       "    <tr>\n",
       "      <td>std</td>\n",
       "      <td>2.343163e+07</td>\n",
       "      <td>27.609466</td>\n",
       "    </tr>\n",
       "    <tr>\n",
       "      <td>min</td>\n",
       "      <td>6.325420e+05</td>\n",
       "      <td>-98.840000</td>\n",
       "    </tr>\n",
       "    <tr>\n",
       "      <td>25%</td>\n",
       "      <td>3.982341e+06</td>\n",
       "      <td>-73.405000</td>\n",
       "    </tr>\n",
       "    <tr>\n",
       "      <td>50%</td>\n",
       "      <td>1.050194e+07</td>\n",
       "      <td>-48.840000</td>\n",
       "    </tr>\n",
       "    <tr>\n",
       "      <td>75%</td>\n",
       "      <td>2.341628e+07</td>\n",
       "      <td>-26.020000</td>\n",
       "    </tr>\n",
       "    <tr>\n",
       "      <td>max</td>\n",
       "      <td>1.509625e+08</td>\n",
       "      <td>-0.010000</td>\n",
       "    </tr>\n",
       "  </tbody>\n",
       "</table>\n",
       "</div>"
      ],
      "text/plain": [
       "            revenue         roi\n",
       "count  3.910000e+02  391.000000\n",
       "mean   1.885159e+07  -48.635754\n",
       "std    2.343163e+07   27.609466\n",
       "min    6.325420e+05  -98.840000\n",
       "25%    3.982341e+06  -73.405000\n",
       "50%    1.050194e+07  -48.840000\n",
       "75%    2.341628e+07  -26.020000\n",
       "max    1.509625e+08   -0.010000"
      ]
     },
     "execution_count": 36,
     "metadata": {},
     "output_type": "execute_result"
    }
   ],
   "source": [
    "df2_action.describe()"
   ]
  },
  {
   "cell_type": "code",
   "execution_count": 37,
   "metadata": {},
   "outputs": [
    {
     "data": {
      "text/plain": [
       "-48.63575447570338"
      ]
     },
     "execution_count": 37,
     "metadata": {},
     "output_type": "execute_result"
    }
   ],
   "source": [
    "action_bar = df2_action.mean()\n",
    "action_bar.roi"
   ]
  },
  {
   "cell_type": "code",
   "execution_count": 38,
   "metadata": {},
   "outputs": [],
   "source": [
    "cursor.execute(\"\"\"\n",
    "SELECT\n",
    "\timdb_id,\n",
    "    title,\n",
    "    revenue,\n",
    "    roi,\n",
    "    release_date\n",
    "FROM\n",
    "    movies.tmdb_adventure\n",
    "WHERE\n",
    "    budget > 50000\n",
    "ORDER BY\n",
    "\trelease_date\n",
    ";\n",
    "\"\"\")"
   ]
  },
  {
   "cell_type": "code",
   "execution_count": 39,
   "metadata": {},
   "outputs": [
    {
     "data": {
      "text/html": [
       "<div>\n",
       "<style scoped>\n",
       "    .dataframe tbody tr th:only-of-type {\n",
       "        vertical-align: middle;\n",
       "    }\n",
       "\n",
       "    .dataframe tbody tr th {\n",
       "        vertical-align: top;\n",
       "    }\n",
       "\n",
       "    .dataframe thead th {\n",
       "        text-align: right;\n",
       "    }\n",
       "</style>\n",
       "<table border=\"1\" class=\"dataframe\">\n",
       "  <thead>\n",
       "    <tr style=\"text-align: right;\">\n",
       "      <th></th>\n",
       "      <th>imdb_id</th>\n",
       "      <th>title</th>\n",
       "      <th>revenue</th>\n",
       "      <th>roi</th>\n",
       "      <th>release_date</th>\n",
       "    </tr>\n",
       "  </thead>\n",
       "  <tbody>\n",
       "    <tr>\n",
       "      <td>0</td>\n",
       "      <td>tt0006333</td>\n",
       "      <td>20,000 Leagues Under the Sea</td>\n",
       "      <td>8000000</td>\n",
       "      <td>3900.00</td>\n",
       "      <td>1916-12-24</td>\n",
       "    </tr>\n",
       "    <tr>\n",
       "      <td>1</td>\n",
       "      <td>tt0015400</td>\n",
       "      <td>The Thief of Bagdad</td>\n",
       "      <td>1213880</td>\n",
       "      <td>6.89</td>\n",
       "      <td>1924-03-18</td>\n",
       "    </tr>\n",
       "    <tr>\n",
       "      <td>2</td>\n",
       "      <td>tt0015864</td>\n",
       "      <td>The Gold Rush</td>\n",
       "      <td>2500000</td>\n",
       "      <td>170.86</td>\n",
       "      <td>1925-06-25</td>\n",
       "    </tr>\n",
       "    <tr>\n",
       "      <td>3</td>\n",
       "      <td>tt0016641</td>\n",
       "      <td>Ben-Hur: A Tale of the Christ</td>\n",
       "      <td>9000000</td>\n",
       "      <td>130.77</td>\n",
       "      <td>1925-12-30</td>\n",
       "    </tr>\n",
       "    <tr>\n",
       "      <td>4</td>\n",
       "      <td>tt0018618</td>\n",
       "      <td>Across to Singapore</td>\n",
       "      <td>596000</td>\n",
       "      <td>105.52</td>\n",
       "      <td>1928-04-07</td>\n",
       "    </tr>\n",
       "  </tbody>\n",
       "</table>\n",
       "</div>"
      ],
      "text/plain": [
       "     imdb_id                          title  revenue      roi release_date\n",
       "0  tt0006333   20,000 Leagues Under the Sea  8000000  3900.00   1916-12-24\n",
       "1  tt0015400            The Thief of Bagdad  1213880     6.89   1924-03-18\n",
       "2  tt0015864                  The Gold Rush  2500000   170.86   1925-06-25\n",
       "3  tt0016641  Ben-Hur: A Tale of the Christ  9000000   130.77   1925-12-30\n",
       "4  tt0018618            Across to Singapore   596000   105.52   1928-04-07"
      ]
     },
     "execution_count": 39,
     "metadata": {},
     "output_type": "execute_result"
    }
   ],
   "source": [
    "adventure_data = cursor.fetchall()\n",
    "column_names = ['imdb_id', 'title', 'revenue', 'roi', 'release_date']\n",
    "df_adventure = pd.DataFrame(adventure_data,columns=column_names)\n",
    "df_adventure.head()"
   ]
  },
  {
   "cell_type": "code",
   "execution_count": 40,
   "metadata": {},
   "outputs": [],
   "source": [
    "df_adventure.drop([0,1,2,3,4,5,6,7,8], axis=0, inplace=True)"
   ]
  },
  {
   "cell_type": "code",
   "execution_count": 41,
   "metadata": {},
   "outputs": [],
   "source": [
    "df_adventure['release_year'] = df_adventure['release_date'].str[:4]"
   ]
  },
  {
   "cell_type": "code",
   "execution_count": 42,
   "metadata": {},
   "outputs": [
    {
     "data": {
      "text/plain": [
       "9      1938-05-13\n",
       "10     1939-01-24\n",
       "11     1939-03-02\n",
       "12     1939-08-15\n",
       "13     1940-07-01\n",
       "          ...    \n",
       "1107   2019-08-01\n",
       "1108   2019-08-01\n",
       "1109   2019-08-02\n",
       "1110   2019-09-17\n",
       "1111   2019-09-19\n",
       "Name: release_date, Length: 1103, dtype: datetime64[ns]"
      ]
     },
     "execution_count": 42,
     "metadata": {},
     "output_type": "execute_result"
    }
   ],
   "source": [
    "pd.to_datetime(df_adventure['release_date'], format = '%Y-%m-%d')"
   ]
  },
  {
   "cell_type": "code",
   "execution_count": 43,
   "metadata": {},
   "outputs": [],
   "source": [
    "adventure_line_graph_data = df_adventure.groupby(pd.to_datetime(df_adventure['release_year'], format = '%Y'))['revenue'].mean()"
   ]
  },
  {
   "cell_type": "code",
   "execution_count": 44,
   "metadata": {},
   "outputs": [],
   "source": [
    "cursor.execute(\"\"\"\n",
    "SELECT\n",
    "\timdb_id,\n",
    "    title,\n",
    "    revenue,\n",
    "    roi,\n",
    "    release_date\n",
    "FROM\n",
    "    movies.tmdb_adventure\n",
    "WHERE\n",
    "    budget > 50000\n",
    "AND\n",
    "    roi < 0\n",
    "ORDER BY\n",
    "\troi\n",
    ";\n",
    "\"\"\")"
   ]
  },
  {
   "cell_type": "code",
   "execution_count": 45,
   "metadata": {},
   "outputs": [
    {
     "data": {
      "text/html": [
       "<div>\n",
       "<style scoped>\n",
       "    .dataframe tbody tr th:only-of-type {\n",
       "        vertical-align: middle;\n",
       "    }\n",
       "\n",
       "    .dataframe tbody tr th {\n",
       "        vertical-align: top;\n",
       "    }\n",
       "\n",
       "    .dataframe thead th {\n",
       "        text-align: right;\n",
       "    }\n",
       "</style>\n",
       "<table border=\"1\" class=\"dataframe\">\n",
       "  <thead>\n",
       "    <tr style=\"text-align: right;\">\n",
       "      <th></th>\n",
       "      <th>imdb_id</th>\n",
       "      <th>title</th>\n",
       "      <th>revenue</th>\n",
       "      <th>roi</th>\n",
       "      <th>release_date</th>\n",
       "    </tr>\n",
       "  </thead>\n",
       "  <tbody>\n",
       "    <tr>\n",
       "      <td>0</td>\n",
       "      <td>tt0365675</td>\n",
       "      <td>The Red Baron</td>\n",
       "      <td>40239</td>\n",
       "      <td>-99.78</td>\n",
       "      <td>2008-03-29</td>\n",
       "    </tr>\n",
       "    <tr>\n",
       "      <td>1</td>\n",
       "      <td>tt0408281</td>\n",
       "      <td>The Tulse Luper Suitcases, Part 2: Vaux to the...</td>\n",
       "      <td>24250</td>\n",
       "      <td>-99.76</td>\n",
       "      <td>2004-02-09</td>\n",
       "    </tr>\n",
       "    <tr>\n",
       "      <td>2</td>\n",
       "      <td>tt0307596</td>\n",
       "      <td>The Tulse Luper Suitcases, Part 1: The Moab Story</td>\n",
       "      <td>25800</td>\n",
       "      <td>-99.74</td>\n",
       "      <td>2003-05-24</td>\n",
       "    </tr>\n",
       "    <tr>\n",
       "      <td>3</td>\n",
       "      <td>tt1772230</td>\n",
       "      <td>1911</td>\n",
       "      <td>108348</td>\n",
       "      <td>-99.64</td>\n",
       "      <td>2011-07-03</td>\n",
       "    </tr>\n",
       "    <tr>\n",
       "      <td>4</td>\n",
       "      <td>tt0096978</td>\n",
       "      <td>Brenda Starr</td>\n",
       "      <td>67878</td>\n",
       "      <td>-99.58</td>\n",
       "      <td>1989-05-15</td>\n",
       "    </tr>\n",
       "  </tbody>\n",
       "</table>\n",
       "</div>"
      ],
      "text/plain": [
       "     imdb_id                                              title  revenue  \\\n",
       "0  tt0365675                                      The Red Baron    40239   \n",
       "1  tt0408281  The Tulse Luper Suitcases, Part 2: Vaux to the...    24250   \n",
       "2  tt0307596  The Tulse Luper Suitcases, Part 1: The Moab Story    25800   \n",
       "3  tt1772230                                               1911   108348   \n",
       "4  tt0096978                                       Brenda Starr    67878   \n",
       "\n",
       "     roi release_date  \n",
       "0 -99.78   2008-03-29  \n",
       "1 -99.76   2004-02-09  \n",
       "2 -99.74   2003-05-24  \n",
       "3 -99.64   2011-07-03  \n",
       "4 -99.58   1989-05-15  "
      ]
     },
     "execution_count": 45,
     "metadata": {},
     "output_type": "execute_result"
    }
   ],
   "source": [
    "adventure_data2 = cursor.fetchall()\n",
    "column_names = ['imdb_id', 'title', 'revenue', 'roi', 'release_date']\n",
    "df2_adventure = pd.DataFrame(adventure_data2,columns=column_names)\n",
    "df2_adventure.head()"
   ]
  },
  {
   "cell_type": "code",
   "execution_count": 46,
   "metadata": {},
   "outputs": [
    {
     "data": {
      "text/html": [
       "<div>\n",
       "<style scoped>\n",
       "    .dataframe tbody tr th:only-of-type {\n",
       "        vertical-align: middle;\n",
       "    }\n",
       "\n",
       "    .dataframe tbody tr th {\n",
       "        vertical-align: top;\n",
       "    }\n",
       "\n",
       "    .dataframe thead th {\n",
       "        text-align: right;\n",
       "    }\n",
       "</style>\n",
       "<table border=\"1\" class=\"dataframe\">\n",
       "  <thead>\n",
       "    <tr style=\"text-align: right;\">\n",
       "      <th></th>\n",
       "      <th>revenue</th>\n",
       "      <th>roi</th>\n",
       "    </tr>\n",
       "  </thead>\n",
       "  <tbody>\n",
       "    <tr>\n",
       "      <td>count</td>\n",
       "      <td>2.700000e+02</td>\n",
       "      <td>270.000000</td>\n",
       "    </tr>\n",
       "    <tr>\n",
       "      <td>mean</td>\n",
       "      <td>1.999873e+07</td>\n",
       "      <td>-52.716778</td>\n",
       "    </tr>\n",
       "    <tr>\n",
       "      <td>std</td>\n",
       "      <td>2.561942e+07</td>\n",
       "      <td>30.214732</td>\n",
       "    </tr>\n",
       "    <tr>\n",
       "      <td>min</td>\n",
       "      <td>2.425000e+04</td>\n",
       "      <td>-99.780000</td>\n",
       "    </tr>\n",
       "    <tr>\n",
       "      <td>25%</td>\n",
       "      <td>2.499138e+06</td>\n",
       "      <td>-79.542500</td>\n",
       "    </tr>\n",
       "    <tr>\n",
       "      <td>50%</td>\n",
       "      <td>1.082784e+07</td>\n",
       "      <td>-51.955000</td>\n",
       "    </tr>\n",
       "    <tr>\n",
       "      <td>75%</td>\n",
       "      <td>2.682077e+07</td>\n",
       "      <td>-28.057500</td>\n",
       "    </tr>\n",
       "    <tr>\n",
       "      <td>max</td>\n",
       "      <td>1.509625e+08</td>\n",
       "      <td>-0.330000</td>\n",
       "    </tr>\n",
       "  </tbody>\n",
       "</table>\n",
       "</div>"
      ],
      "text/plain": [
       "            revenue         roi\n",
       "count  2.700000e+02  270.000000\n",
       "mean   1.999873e+07  -52.716778\n",
       "std    2.561942e+07   30.214732\n",
       "min    2.425000e+04  -99.780000\n",
       "25%    2.499138e+06  -79.542500\n",
       "50%    1.082784e+07  -51.955000\n",
       "75%    2.682077e+07  -28.057500\n",
       "max    1.509625e+08   -0.330000"
      ]
     },
     "execution_count": 46,
     "metadata": {},
     "output_type": "execute_result"
    }
   ],
   "source": [
    "df2_adventure.describe()"
   ]
  },
  {
   "cell_type": "code",
   "execution_count": 47,
   "metadata": {},
   "outputs": [
    {
     "data": {
      "text/plain": [
       "-52.716777777777764"
      ]
     },
     "execution_count": 47,
     "metadata": {},
     "output_type": "execute_result"
    }
   ],
   "source": [
    "adventure_bar = df2_adventure.mean()\n",
    "adventure_bar.roi"
   ]
  },
  {
   "cell_type": "code",
   "execution_count": 48,
   "metadata": {},
   "outputs": [],
   "source": [
    "recessions = [\n",
    "    {\n",
    "        'start': '1929-08-01',\n",
    "        'end': '1932-03-01'\n",
    "    },\n",
    "    {\n",
    "        'start': '1937-05-01',\n",
    "        'end': '1938-06-01'\n",
    "    },\n",
    "    {\n",
    "        'start': '1945-02-01',\n",
    "        'end': '1945-10-01'\n",
    "    },\n",
    "    {\n",
    "        'start': '1957-08-01',\n",
    "        'end': '1958-04-01'\n",
    "    },\n",
    "    {\n",
    "        'start': '1973-11-01',\n",
    "        'end': '1975-03-01'\n",
    "    },\n",
    "    {\n",
    "        'start': '2007-12-01',\n",
    "        'end': '2009-06-01'\n",
    "    }\n",
    "]\n",
    "\n",
    "for recession in recessions:\n",
    "    pd.to_datetime(recession['start'], format='%Y-%m-%d')\n",
    "    pd.to_datetime(recession['end'], format='%Y-%m-%d')"
   ]
  },
  {
   "cell_type": "code",
   "execution_count": 49,
   "metadata": {},
   "outputs": [],
   "source": [
    "# source: https://www.benefits.va.gov/pension/wartimeperiod.asp\n",
    "\n",
    "wars = [\n",
    "    {\n",
    "        'start': '1941-12-07',\n",
    "        'end': '1946-12-31'\n",
    "    },\n",
    "    {\n",
    "        'start': '1950-06-27',\n",
    "        'end': '1955-01-31'\n",
    "    },\n",
    "    {\n",
    "        'start': '1961-02-28',\n",
    "        'end': '1975-05-07'\n",
    "    },\n",
    "    {\n",
    "        'start': '1990-08-02',\n",
    "        'end': '1991-04-06'\n",
    "    },\n",
    "    {\n",
    "        'start': '2001-10-07',\n",
    "        'end': '2019-12-31'\n",
    "    }\n",
    "]\n",
    "\n",
    "for war in wars:\n",
    "    pd.to_datetime(war['start'], format='%Y-%m-%d')\n",
    "    pd.to_datetime(war['end'], format='%Y-%m-%d')"
   ]
  },
  {
   "cell_type": "code",
   "execution_count": 50,
   "metadata": {},
   "outputs": [
    {
     "name": "stderr",
     "output_type": "stream",
     "text": [
      "/Users/JacquesPierre/anaconda3/lib/python3.7/site-packages/pandas/plotting/_matplotlib/converter.py:103: FutureWarning: Using an implicitly registered datetime converter for a matplotlib plotting method. The converter was registered by pandas on import. Future versions of pandas will require you to explicitly register matplotlib converters.\n",
      "\n",
      "To register the converters:\n",
      "\t>>> from pandas.plotting import register_matplotlib_converters\n",
      "\t>>> register_matplotlib_converters()\n",
      "  warnings.warn(msg, FutureWarning)\n"
     ]
    },
    {
     "data": {
      "image/png": "[encoded data removed]",
      "text/plain": [
       "<Figure size 720x576 with 1 Axes>"
      ]
     },
     "metadata": {
      "needs_background": "light"
     },
     "output_type": "display_data"
    }
   ],
   "source": [
    "fig = plt.figure(figsize=(10,8))\n",
    "ax_RecWar = fig.add_subplot(111)\n",
    "\n",
    "\n",
    "ax_RecWar.plot(action_line_graph_data, label = 'Action', color='green')\n",
    "ax_RecWar.plot(adventure_line_graph_data, label = 'Adventure', color='purple')\n",
    "ax_RecWar.plot(comedy_line_graph_data, label = 'Comedy', color='red')\n",
    "ax_RecWar.plot(horror_line_graph_data, label = 'Horror', color='blue')\n",
    "ax_RecWar.legend()\n",
    "ax_RecWar.set_title('Average Revenue by Genre During U.S.\\nRecessionary (Grey) & Wartime (Yellow) Periods', {'fontsize': 16})\n",
    "ax_RecWar.set_ylabel('Dollars', {'fontsize': 16})\n",
    "\n",
    "for recession in recessions:\n",
    "    ax_RecWar.axvspan(recession['start'],recession['end'],0,200, color=(0.5, 0.5, 0.5, 0.5))\n",
    "    \n",
    "for war in wars:\n",
    "    ax_RecWar.axvspan(war['start'],war['end'],0,200, color=(0.9, 1.0, 0.5, 0.5))"
   ]
  },
  {
   "cell_type": "code",
   "execution_count": 54,
   "metadata": {},
   "outputs": [],
   "source": [
    "roi_h = horror_bar.roi\n",
    "roi_c = comedy_bar.roi\n",
    "roi_ac = action_bar.roi\n",
    "roi_ad = adventure_bar.roi"
   ]
  },
  {
   "cell_type": "code",
   "execution_count": 55,
   "metadata": {},
   "outputs": [],
   "source": [
    "rois = [\n",
    "    {\n",
    "        'genre': 'Comedy',\n",
    "        'roi': roi_c\n",
    "    },\n",
    "    {\n",
    "        'genre': 'Adventure',\n",
    "        'roi': roi_ad\n",
    "    },\n",
    "    {\n",
    "        'genre': 'Action',\n",
    "        'roi': roi_ac\n",
    "    },\n",
    "    {\n",
    "        'genre': 'Horror',\n",
    "        'roi': roi_h\n",
    "    }\n",
    "]"
   ]
  },
  {
   "cell_type": "code",
   "execution_count": 56,
   "metadata": {},
   "outputs": [],
   "source": [
    "import seaborn as sns\n",
    "sns.set_style('whitegrid')"
   ]
  },
  {
   "cell_type": "code",
   "execution_count": 60,
   "metadata": {},
   "outputs": [
    {
     "data": {
      "image/png": "[encoded data removed]",
      "text/plain": [
       "<Figure size 720x576 with 1 Axes>"
      ]
     },
     "metadata": {},
     "output_type": "display_data"
    }
   ],
   "source": [
    "fig2 = plt.figure(figsize=(10,8))\n",
    "ax_avgroi = fig2.add_subplot(111)\n",
    "ax_avgroi.set_title('Average Negative ROI for All Movies', {'fontsize': 18})\n",
    "ax_avgroi.set_ylabel('Return on Investments (%)', {'fontsize': 16})\n",
    "\n",
    "\n",
    "for roi in rois:\n",
    "    ax_avgroi.bar(roi['genre'], roi['roi'], label = roi['genre'])"
   ]
  },
  {
   "cell_type": "code",
   "execution_count": 61,
   "metadata": {},
   "outputs": [],
   "source": [
    "cnx.close()"
   ]
  },
  {
   "cell_type": "code",
   "execution_count": null,
   "metadata": {},
   "outputs": [],
   "source": []
  }
 ],
 "metadata": {
  "kernelspec": {
   "display_name": "Python 3",
   "language": "python",
   "name": "python3"
  },
  "language_info": {
   "codemirror_mode": {
    "name": "ipython",
    "version": 3
   },
   "file_extension": ".py",
   "mimetype": "text/x-python",
   "name": "python",
   "nbconvert_exporter": "python",
   "pygments_lexer": "ipython3",
   "version": "3.7.3"
  }
 },
 "nbformat": 4,
 "nbformat_minor": 2
}
