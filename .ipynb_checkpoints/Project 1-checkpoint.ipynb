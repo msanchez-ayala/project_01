{
 "cells": [
  {
   "cell_type": "code",
   "execution_count": 1,
   "metadata": {},
   "outputs": [],
   "source": [
    "# %load tMDB_genre_ids.py\n",
    "genres = {\n",
    "  \"genres\": [\n",
    "    {\"id\": 28, \"name\": \"Action\"},\n",
    "    {\"id\": 12, \"name\": \"Adventure\"},\n",
    "    {\"id\": 16, \"name\": \"Animation\"},\n",
    "    {\"id\": 35, \"name\": \"Comedy\"},\n",
    "    {\"id\": 80, \"name\": \"Crime\"},\n",
    "    {\"id\": 99, \"name\": \"Documentary\"},\n",
    "    {\"id\": 18, \"name\": \"Drama\"},\n",
    "    {\"id\": 10751, \"name\": \"Family\"},\n",
    "    {\"id\": 14, \"name\": \"Fantasy\"},\n",
    "    {\"id\": 36, \"name\": \"History\"},\n",
    "    {\"id\": 27, \"name\": \"Horror\"},\n",
    "    {\"id\": 10402, \"name\": \"Music\"},\n",
    "    {\"id\": 9648, \"name\": \"Mystery\"},\n",
    "    {\"id\": 10749, \"name\": \"Romance\"},\n",
    "    {\"id\": 878, \"name\": \"Science Fiction\"},\n",
    "    {\"id\": 10770, \"name\": \"TV Movie\"},\n",
    "    {\"id\": 53, \"name\": \"Thriller\"},\n",
    "    {\"id\": 10752, \"name\": \"War\"},\n",
    "    {\"id\": 37, \"name\": \"Western\"}\n",
    "  ]\n",
    "}\n",
    "\n",
    "# grab the genre ids for the api calls\n",
    "genre_ids = []\n",
    "for genre in genres['genres']:\n",
    "    genre_ids.append(genre['id'])"
   ]
  },
  {
   "cell_type": "code",
   "execution_count": 2,
   "metadata": {},
   "outputs": [
    {
     "data": {
      "text/plain": [
       "[28,\n",
       " 12,\n",
       " 16,\n",
       " 35,\n",
       " 80,\n",
       " 99,\n",
       " 18,\n",
       " 10751,\n",
       " 14,\n",
       " 36,\n",
       " 27,\n",
       " 10402,\n",
       " 9648,\n",
       " 10749,\n",
       " 878,\n",
       " 10770,\n",
       " 53,\n",
       " 10752,\n",
       " 37]"
      ]
     },
     "execution_count": 2,
     "metadata": {},
     "output_type": "execute_result"
    }
   ],
   "source": [
    "genre_ids"
   ]
  },
  {
   "cell_type": "code",
   "execution_count": 3,
   "metadata": {},
   "outputs": [],
   "source": [
    "# %load tMDB_certifications\n",
    "certifications = {\n",
    "  \"certifications\": [\n",
    "      {\n",
    "        \"certification\": \"G\",\n",
    "        \"meaning\": \"All ages admitted. There is no content that would be objectionable to most parents. This is one of only two ratings dating back to 1968 that still exists today.\",\n",
    "        \"order\": 1\n",
    "      },\n",
    "      {\n",
    "        \"certification\": \"PG\",\n",
    "        \"meaning\": \"Some material may not be suitable for children under 10. These films may contain some mild language, crude/suggestive humor, scary moments and/or violence. No drug content is present. There are a few exceptions to this rule. A few racial insults may also be heard.\",\n",
    "        \"order\": 2\n",
    "      },\n",
    "      {\n",
    "        \"certification\": \"PG-13\",\n",
    "        \"meaning\": \"Some material may be inappropriate for children under 13. Films given this rating may contain sexual content, brief or partial nudity, some strong language and innuendo, humor, mature themes, political themes, terror and/or intense action violence. However, bloodshed is rarely present. This is the minimum rating at which drug content is present.\",\n",
    "        \"order\": 3\n",
    "      },\n",
    "\n",
    "      {\n",
    "        \"certification\": \"R\",\n",
    "        \"meaning\": \"Under 17 requires accompanying parent or adult guardian 21 or older. The parent/guardian is required to stay with the child under 17 through the entire movie, even if the parent gives the child/teenager permission to see the film alone. These films may contain strong profanity, graphic sexuality, nudity, strong violence, horror, gore, and strong drug use. A movie rated R for profanity often has more severe or frequent language than the PG-13 rating would permit. An R-rated movie may have more blood, gore, drug use, nudity, or graphic sexuality than a PG-13 movie would admit.\",\n",
    "        \"order\": 4\n",
    "      },\n",
    "      {\n",
    "        \"certification\": \"NR\",\n",
    "        \"meaning\": \"No rating information.\",\n",
    "        \"order\": 0\n",
    "      }\n",
    "    ]\n",
    "}\n",
    "\n",
    "ratings = []\n",
    "for certification in certifications['certifications']:\n",
    "    ratings.append(certification['certification'])"
   ]
  },
  {
   "cell_type": "code",
   "execution_count": 4,
   "metadata": {},
   "outputs": [
    {
     "data": {
      "text/plain": [
       "['G', 'PG', 'PG-13', 'R', 'NR']"
      ]
     },
     "execution_count": 4,
     "metadata": {},
     "output_type": "execute_result"
    }
   ],
   "source": [
    "ratings"
   ]
  },
  {
   "cell_type": "code",
   "execution_count": 5,
   "metadata": {},
   "outputs": [],
   "source": [
    "# API Permission Info\n",
    "api_key = '91011d12ab785b50295a8f31e8f78a6b'"
   ]
  },
  {
   "cell_type": "code",
   "execution_count": 6,
   "metadata": {},
   "outputs": [],
   "source": [
    "import requests\n",
    "import time"
   ]
  },
  {
   "cell_type": "code",
   "execution_count": 7,
   "metadata": {
    "scrolled": true
   },
   "outputs": [],
   "source": [
    "# Make call for G rated movies\n",
    "\n",
    "for i_d in genre_ids:\n",
    "    url = 'https://api.themoviedb.org/3/discover/movie?api_key={}&with_genre={}&certification_country=US&certification=G&sort_by=revenue.desc'.format(api_key, i_d)\n",
    "    response = requests.get(url)\n",
    "    topG_movies = response.json()['results']\n",
    "    time.sleep(0.1)"
   ]
  },
  {
   "cell_type": "code",
   "execution_count": 9,
   "metadata": {},
   "outputs": [],
   "source": [
    "# Make call for PG rated movies\n",
    "\n",
    "for i_d in genre_ids:\n",
    "    url = 'https://api.themoviedb.org/3/discover/movie?api_key={}&with_genre={}&certification_country=US&certification=PG&sort_by=revenue.desc'.format(api_key, i_d)\n",
    "    response = requests.get(url)\n",
    "    topPG_movies = response.json()['results']\n",
    "    time.sleep(0.1)"
   ]
  },
  {
   "cell_type": "code",
   "execution_count": 11,
   "metadata": {},
   "outputs": [],
   "source": [
    "# Make call for PG-13 rated movies\n",
    "\n",
    "for i_d in genre_ids:\n",
    "    url = 'https://api.themoviedb.org/3/discover/movie?api_key={}&with_genre={}&certification_country=US&certification=PG-13&sort_by=revenue.desc'.format(api_key, i_d)\n",
    "    response = requests.get(url)\n",
    "    topPG13_movies = response.json()['results']\n",
    "    time.sleep(0.1)"
   ]
  },
  {
   "cell_type": "code",
   "execution_count": 12,
   "metadata": {},
   "outputs": [],
   "source": [
    "# Make call for R rated movies\n",
    "\n",
    "for i_d in genre_ids:\n",
    "    url = 'https://api.themoviedb.org/3/discover/movie?api_key={}&with_genre={}&certification_country=US&certification=R&sort_by=revenue.desc'.format(api_key, i_d)\n",
    "    response = requests.get(url)\n",
    "    topR_movies = response.json()['results']\n",
    "    time.sleep(0.1)"
   ]
  },
  {
   "cell_type": "code",
   "execution_count": 13,
   "metadata": {},
   "outputs": [],
   "source": [
    "# Make call for NR rated movies\n",
    "\n",
    "for i_d in genre_ids:\n",
    "    url = 'https://api.themoviedb.org/3/discover/movie?api_key={}&with_genre={}&certification_country=US&certification=NR&sort_by=revenue.desc'.format(api_key, i_d)\n",
    "    response = requests.get(url)\n",
    "    topNR_movies = response.json()['results']\n",
    "    time.sleep(0.1)"
   ]
  },
  {
   "cell_type": "code",
   "execution_count": 14,
   "metadata": {},
   "outputs": [],
   "source": [
    "# parse results for what we want\n",
    "\n",
    "def parsed_results(results, rating):\n",
    "    parsed_results = []\n",
    "    for result in results:\n",
    "        parsed = {}\n",
    "        parsed['title'] = result['title']\n",
    "        parsed['rating'] = rating\n",
    "        parsed['genre_ids'] = result['genre_ids']\n",
    "        parsed['avg_rating'] = result['vote_average']\n",
    "        parsed['release_date'] = result['release_date']\n",
    "        parsed_results.append(parsed)\n",
    "    return parsed_results"
   ]
  },
  {
   "cell_type": "code",
   "execution_count": 29,
   "metadata": {
    "scrolled": true
   },
   "outputs": [],
   "source": [
    "# clean up movie lists\n",
    "\n",
    "G_movies = parsed_results(topG_movies, 'G')\n",
    "PG_movies = parsed_results(topPG_movies, 'PG')\n",
    "PG13_movies = parsed_results(topPG13_movies, 'PG-13')\n",
    "R_movies = parsed_results(topR_movies, 'R')\n",
    "NR_movies = parsed_results(topNR_movies, 'NR')"
   ]
  }
 ],
 "metadata": {
  "kernelspec": {
   "display_name": "Python 3",
   "language": "python",
   "name": "python3"
  },
  "language_info": {
   "codemirror_mode": {
    "name": "ipython",
    "version": 3
   },
   "file_extension": ".py",
   "mimetype": "text/x-python",
   "name": "python",
   "nbconvert_exporter": "python",
   "pygments_lexer": "ipython3",
   "version": "3.7.3"
  }
 },
 "nbformat": 4,
 "nbformat_minor": 2
}
