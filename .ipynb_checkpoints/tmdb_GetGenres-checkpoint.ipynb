{
 "cells": [
  {
   "cell_type": "markdown",
   "metadata": {},
   "source": [
    "# IMPORTS AND API_KEY"
   ]
  },
  {
   "cell_type": "code",
   "execution_count": 1,
   "metadata": {},
   "outputs": [],
   "source": [
    "import requests\n",
    "import time\n",
    "import mysql.connector\n",
    "import test_config\n",
    "api_key = '91011d12ab785b50295a8f31e8f78a6b'\n",
    "db_name = 'movies'"
   ]
  },
  {
   "cell_type": "markdown",
   "metadata": {},
   "source": [
    "# CREATE DATABASE"
   ]
  },
  {
   "cell_type": "code",
   "execution_count": 2,
   "metadata": {},
   "outputs": [],
   "source": [
    "cnx = mysql.connector.connect(\n",
    "        host = test_config.host,\n",
    "        user = test_config.user,\n",
    "        password = test_config.password\n",
    ")\n",
    "cursor = cnx.cursor(buffered=True)"
   ]
  },
  {
   "cell_type": "code",
   "execution_count": 3,
   "metadata": {},
   "outputs": [],
   "source": [
    "cursor.execute(\"\"\"CREATE DATABASE {} DEFAULT CHARACTER SET 'utf8'\"\"\".format(db_name))\n",
    "cnx.close()"
   ]
  },
  {
   "cell_type": "markdown",
   "metadata": {},
   "source": [
    "# CREATE TABLE(S)"
   ]
  },
  {
   "cell_type": "markdown",
   "metadata": {},
   "source": [
    "\"create_table\" creates tables into your database. Takes a query and database as variables."
   ]
  },
  {
   "cell_type": "code",
   "execution_count": 7,
   "metadata": {},
   "outputs": [],
   "source": [
    "def create_tmdb_table(table_name, db_name):\n",
    "    cnx = mysql.connector.connect(\n",
    "        host = test_config.host,\n",
    "        user = test_config.user,\n",
    "        password = test_config.password,\n",
    "        database = db_name\n",
    "    )\n",
    "    cursor = cnx.cursor(buffered=True)\n",
    "    \n",
    "    cursor.execute(\"\"\"\n",
    "    CREATE TABLE {} (\n",
    "    movie_id varchar(20) NOT NULL UNIQUE,\n",
    "    imdb_id varchar(20) NOT NULL UNIQUE,\n",
    "    title varchar(100) NOT NULL,\n",
    "    budget int(12),\n",
    "    revenue int(12),\n",
    "    roi float(6),\n",
    "    release_date varchar(10),\n",
    "    PRIMARY KEY (movie_id)\n",
    "    )\n",
    "\"\"\".format(table_name))\n",
    "    \n",
    "    cnx.close()"
   ]
  },
  {
   "cell_type": "code",
   "execution_count": 8,
   "metadata": {},
   "outputs": [],
   "source": [
    "create_tmdb_table('tmdb_comedy', db_name)"
   ]
  },
  {
   "cell_type": "markdown",
   "metadata": {},
   "source": [
    "# DEFINE FUNCTIONS"
   ]
  },
  {
   "cell_type": "markdown",
   "metadata": {},
   "source": [
    "\"get_movie_ids\" makes API calls to pull movie_ids (needed for reveneue/budget API calls). Takes a genre_id as a variable. Uses api_key defined above. Run time is approximately 30 seconds."
   ]
  },
  {
   "cell_type": "code",
   "execution_count": 9,
   "metadata": {},
   "outputs": [],
   "source": [
    "def get_movie_ids(genre_id):\n",
    "    url = 'https://api.themoviedb.org/3/discover/movie?api_key={}&with_genres={}&sort_by=revenue.desc&page=1'.format(api_key, genre_id)\n",
    "    response = requests.get(url)\n",
    "    data = response.json()\n",
    "    num = data['total_pages']\n",
    "    \n",
    "    movies = []\n",
    "    page = 1\n",
    "    while page < 100 or page <= num:\n",
    "        url = 'https://api.themoviedb.org/3/discover/movie?api_key={}&with_genres={}&sort_by=revenue.desc&page={}'.format(api_key, genre_id, page)\n",
    "        response = requests.get(url)\n",
    "        moviez = response.json()['results']\n",
    "        movies.extend(moviez)\n",
    "        page += 1\n",
    "        time.sleep(0.25)\n",
    "        \n",
    "    movie_ids = [movie['id'] for movie in movies]\n",
    "    return movie_ids"
   ]
  },
  {
   "cell_type": "markdown",
   "metadata": {},
   "source": [
    "\"get_RevBub\" makes one API call per movie_id and grabs revenue and budget infomation. Takes a list of movie_ids as a variable. Uses api_key defined above. Run time is approximately 6 minutes."
   ]
  },
  {
   "cell_type": "code",
   "execution_count": 10,
   "metadata": {},
   "outputs": [],
   "source": [
    "def get_RevBud(movie_ids):\n",
    "    movies = []\n",
    "    count = 1\n",
    "    for i_d in movie_ids:\n",
    "        url = 'https://api.themoviedb.org/3/movie/{}?api_key={}&language=en-US&append_to_response=revenue'.format(i_d,api_key)\n",
    "        response = requests.get(url)\n",
    "        moviez = response.json()\n",
    "        movies.append(moviez)\n",
    "        time.sleep(0.3)\n",
    "    return movies"
   ]
  },
  {
   "cell_type": "markdown",
   "metadata": {},
   "source": [
    "\"parsed_results\" returns cleaned results: imdb_id, title, budget, revenue, roi, release_date. Takes a list of movies (one dictionary per movie) as a variable."
   ]
  },
  {
   "cell_type": "code",
   "execution_count": 11,
   "metadata": {},
   "outputs": [],
   "source": [
    "def parsed_results(movies):\n",
    "    parsed_movies = []\n",
    "    for movie in movies:\n",
    "        if movie['imdb_id'] == None or movie['imdb_id'] == '':\n",
    "            continue\n",
    "        else:\n",
    "            parsed = {}\n",
    "            parsed['movie_id'] = movie['id']\n",
    "            parsed['imdb_id'] = movie['imdb_id']\n",
    "            parsed['title'] = movie['title']\n",
    "            parsed['budget'] = movie['budget']\n",
    "            parsed['revenue'] = movie['revenue']\n",
    "            parsed['release_date'] = movie['release_date']\n",
    "            parsed_movies.append(parsed)\n",
    "    return parsed_movies"
   ]
  },
  {
   "cell_type": "markdown",
   "metadata": {},
   "source": [
    "\"calc_roi\" returns ROI = revenue / budget - 1. Takes a list of movies (one dictionary per movie) as a variable."
   ]
  },
  {
   "cell_type": "code",
   "execution_count": 12,
   "metadata": {},
   "outputs": [],
   "source": [
    "def calc_roi(parsed_movies):    \n",
    "    for movie in parsed_movies:\n",
    "        if movie['budget'] != 0:\n",
    "            movie['roi'] = round((movie['revenue'] / movie['budget'])-1, 2)\n",
    "        else:\n",
    "            movie['roi'] = 0.0\n",
    "    return parsed_movies"
   ]
  },
  {
   "cell_type": "code",
   "execution_count": 13,
   "metadata": {},
   "outputs": [],
   "source": [
    "def insert_into_DB(table_name, movies):\n",
    "    cnx = mysql.connector.connect(\n",
    "        host = test_config.host,\n",
    "        user = test_config.user,\n",
    "        password = test_config.password,\n",
    "        database = db_name\n",
    "    )\n",
    "    cursor = cnx.cursor(buffered=True)\n",
    "    \n",
    "    movies_to_insert = []\n",
    "    for movie in movies:\n",
    "        movie_tuple = (\n",
    "            movie['movie_id'],\n",
    "            movie['imdb_id'],\n",
    "            movie['title'],\n",
    "            movie['budget'],\n",
    "            movie['revenue'],\n",
    "            movie['roi'],\n",
    "            movie['release_date']\n",
    "        )\n",
    "        movies_to_insert.append(movie_tuple)\n",
    "        \n",
    "    insert_query = (\"\"\"\n",
    "        INSERT INTO {} (movie_id, imdb_id, title, budget, revenue, roi, release_date)\n",
    "        VALUES (%s, %s, %s, %s, %s, %s, %s)\n",
    "        \"\"\".format(table_name))\n",
    "    \n",
    "    cursor.executemany(insert_query, movies_to_insert)\n",
    "    cnx.commit()\n",
    "    cnx.close()"
   ]
  },
  {
   "cell_type": "code",
   "execution_count": 15,
   "metadata": {},
   "outputs": [],
   "source": [
    "def execute(genre_id, table_name):\n",
    "    movie_ids = get_movie_ids(str(genre_id))\n",
    "    movies = get_RevBud(movie_ids)\n",
    "    parsed_movies = parsed_results(movies)\n",
    "    movie_data = calc_roi(parsed_movies)\n",
    "    insert_into_DB(table_name, parsed_movies)"
   ]
  },
  {
   "cell_type": "code",
   "execution_count": 16,
   "metadata": {},
   "outputs": [
    {
     "ename": "KeyboardInterrupt",
     "evalue": "",
     "output_type": "error",
     "traceback": [
      "\u001b[0;31m---------------------------------------------------------------------------\u001b[0m",
      "\u001b[0;31mKeyboardInterrupt\u001b[0m                         Traceback (most recent call last)",
      "\u001b[0;32m<ipython-input-16-8d2d6545e986>\u001b[0m in \u001b[0;36m<module>\u001b[0;34m\u001b[0m\n\u001b[0;32m----> 1\u001b[0;31m \u001b[0mexecute\u001b[0m\u001b[0;34m(\u001b[0m\u001b[0;36m35\u001b[0m\u001b[0;34m,\u001b[0m \u001b[0;34m'tmdb_comedy'\u001b[0m\u001b[0;34m)\u001b[0m\u001b[0;34m\u001b[0m\u001b[0;34m\u001b[0m\u001b[0m\n\u001b[0m",
      "\u001b[0;32m<ipython-input-15-f7e4c60e4a3f>\u001b[0m in \u001b[0;36mexecute\u001b[0;34m(genre_id, table_name)\u001b[0m\n\u001b[1;32m      1\u001b[0m \u001b[0;32mdef\u001b[0m \u001b[0mexecute\u001b[0m\u001b[0;34m(\u001b[0m\u001b[0mgenre_id\u001b[0m\u001b[0;34m,\u001b[0m \u001b[0mtable_name\u001b[0m\u001b[0;34m)\u001b[0m\u001b[0;34m:\u001b[0m\u001b[0;34m\u001b[0m\u001b[0;34m\u001b[0m\u001b[0m\n\u001b[0;32m----> 2\u001b[0;31m     \u001b[0mmovie_ids\u001b[0m \u001b[0;34m=\u001b[0m \u001b[0mget_movie_ids\u001b[0m\u001b[0;34m(\u001b[0m\u001b[0mstr\u001b[0m\u001b[0;34m(\u001b[0m\u001b[0mgenre_id\u001b[0m\u001b[0;34m)\u001b[0m\u001b[0;34m)\u001b[0m\u001b[0;34m\u001b[0m\u001b[0;34m\u001b[0m\u001b[0m\n\u001b[0m\u001b[1;32m      3\u001b[0m     \u001b[0mmovies\u001b[0m \u001b[0;34m=\u001b[0m \u001b[0mget_RevBud\u001b[0m\u001b[0;34m(\u001b[0m\u001b[0mmovie_ids\u001b[0m\u001b[0;34m)\u001b[0m\u001b[0;34m\u001b[0m\u001b[0;34m\u001b[0m\u001b[0m\n\u001b[1;32m      4\u001b[0m     \u001b[0mparsed_movies\u001b[0m \u001b[0;34m=\u001b[0m \u001b[0mparsed_results\u001b[0m\u001b[0;34m(\u001b[0m\u001b[0mmovies\u001b[0m\u001b[0;34m)\u001b[0m\u001b[0;34m\u001b[0m\u001b[0;34m\u001b[0m\u001b[0m\n\u001b[1;32m      5\u001b[0m     \u001b[0mmovie_data\u001b[0m \u001b[0;34m=\u001b[0m \u001b[0mcalc_roi\u001b[0m\u001b[0;34m(\u001b[0m\u001b[0mparsed_movies\u001b[0m\u001b[0;34m)\u001b[0m\u001b[0;34m\u001b[0m\u001b[0;34m\u001b[0m\u001b[0m\n",
      "\u001b[0;32m<ipython-input-9-dc3dd5324e81>\u001b[0m in \u001b[0;36mget_movie_ids\u001b[0;34m(genre_id)\u001b[0m\n\u001b[1;32m     13\u001b[0m         \u001b[0mmovies\u001b[0m\u001b[0;34m.\u001b[0m\u001b[0mextend\u001b[0m\u001b[0;34m(\u001b[0m\u001b[0mmoviez\u001b[0m\u001b[0;34m)\u001b[0m\u001b[0;34m\u001b[0m\u001b[0;34m\u001b[0m\u001b[0m\n\u001b[1;32m     14\u001b[0m         \u001b[0mpage\u001b[0m \u001b[0;34m+=\u001b[0m \u001b[0;36m1\u001b[0m\u001b[0;34m\u001b[0m\u001b[0;34m\u001b[0m\u001b[0m\n\u001b[0;32m---> 15\u001b[0;31m         \u001b[0mtime\u001b[0m\u001b[0;34m.\u001b[0m\u001b[0msleep\u001b[0m\u001b[0;34m(\u001b[0m\u001b[0;36m0.25\u001b[0m\u001b[0;34m)\u001b[0m\u001b[0;34m\u001b[0m\u001b[0;34m\u001b[0m\u001b[0m\n\u001b[0m\u001b[1;32m     16\u001b[0m \u001b[0;34m\u001b[0m\u001b[0m\n\u001b[1;32m     17\u001b[0m     \u001b[0mmovie_ids\u001b[0m \u001b[0;34m=\u001b[0m \u001b[0;34m[\u001b[0m\u001b[0mmovie\u001b[0m\u001b[0;34m[\u001b[0m\u001b[0;34m'id'\u001b[0m\u001b[0;34m]\u001b[0m \u001b[0;32mfor\u001b[0m \u001b[0mmovie\u001b[0m \u001b[0;32min\u001b[0m \u001b[0mmovies\u001b[0m\u001b[0;34m]\u001b[0m\u001b[0;34m\u001b[0m\u001b[0;34m\u001b[0m\u001b[0m\n",
      "\u001b[0;31mKeyboardInterrupt\u001b[0m: "
     ]
    }
   ],
   "source": [
    "execute(35, 'tmdb_comedy')"
   ]
  }
 ],
 "metadata": {
  "kernelspec": {
   "display_name": "Python 3",
   "language": "python",
   "name": "python3"
  },
  "language_info": {
   "codemirror_mode": {
    "name": "ipython",
    "version": 3
   },
   "file_extension": ".py",
   "mimetype": "text/x-python",
   "name": "python",
   "nbconvert_exporter": "python",
   "pygments_lexer": "ipython3",
   "version": "3.7.3"
  }
 },
 "nbformat": 4,
 "nbformat_minor": 2
}
