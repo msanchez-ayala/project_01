{
 "cells": [
  {
   "cell_type": "markdown",
   "metadata": {},
   "source": [
    "# Connect to database to run queries"
   ]
  },
  {
   "cell_type": "code",
   "execution_count": 1,
   "metadata": {},
   "outputs": [],
   "source": [
    "import mysql.connector\n",
    "import config\n",
    "import pandas as pd\n",
    "import matplotlib.pyplot as plt\n",
    "import numpy as np\n",
    "%matplotlib inline"
   ]
  },
  {
   "cell_type": "code",
   "execution_count": 2,
   "metadata": {},
   "outputs": [],
   "source": [
    "cnx = mysql.connector.connect(\n",
    "        host = config.host,\n",
    "        user = config.user,\n",
    "        password = config.password,\n",
    "        database = 'movies'\n",
    ")\n",
    "cursor = cnx.cursor(buffered=True)"
   ]
  },
  {
   "cell_type": "markdown",
   "metadata": {},
   "source": [
    "Run query to join tables on IMDB_id"
   ]
  },
  {
   "cell_type": "code",
   "execution_count": 3,
   "metadata": {},
   "outputs": [],
   "source": [
    "cursor.execute(\"\"\"\n",
    "SELECT\n",
    "\ti.imdb_id,\n",
    "    title,\n",
    "    roi,\n",
    "    imdb_rank,\n",
    "    imdb_score,\n",
    "    release_date\n",
    "FROM\n",
    "    movies.imdb i\n",
    "INNER JOIN\n",
    "    movies.tmdb t\n",
    "ON\n",
    "    i.imdb_id = t.imdb_id\n",
    "ORDER BY\n",
    "\trelease_date\n",
    ";\n",
    "\"\"\")"
   ]
  },
  {
   "cell_type": "code",
   "execution_count": 4,
   "metadata": {},
   "outputs": [],
   "source": [
    "data = cursor.fetchall()\n",
    "column_names = ['imdb_id', 'title', 'roi', 'imdb_rank', 'imdb_score', 'release_date']\n",
    "df = pd.DataFrame(data,columns=column_names)"
   ]
  },
  {
   "cell_type": "code",
   "execution_count": 5,
   "metadata": {
    "scrolled": false
   },
   "outputs": [
    {
     "data": {
      "text/html": [
       "<div>\n",
       "<style scoped>\n",
       "    .dataframe tbody tr th:only-of-type {\n",
       "        vertical-align: middle;\n",
       "    }\n",
       "\n",
       "    .dataframe tbody tr th {\n",
       "        vertical-align: top;\n",
       "    }\n",
       "\n",
       "    .dataframe thead th {\n",
       "        text-align: right;\n",
       "    }\n",
       "</style>\n",
       "<table border=\"1\" class=\"dataframe\">\n",
       "  <thead>\n",
       "    <tr style=\"text-align: right;\">\n",
       "      <th></th>\n",
       "      <th>imdb_id</th>\n",
       "      <th>title</th>\n",
       "      <th>roi</th>\n",
       "      <th>imdb_rank</th>\n",
       "      <th>imdb_score</th>\n",
       "      <th>release_date</th>\n",
       "    </tr>\n",
       "  </thead>\n",
       "  <tbody>\n",
       "    <tr>\n",
       "      <td>0</td>\n",
       "      <td>tt0021884</td>\n",
       "      <td>Frankenstein</td>\n",
       "      <td>40.24</td>\n",
       "      <td>389</td>\n",
       "      <td>7.8</td>\n",
       "      <td>1931-11-21</td>\n",
       "    </tr>\n",
       "    <tr>\n",
       "      <td>1</td>\n",
       "      <td>tt0022835</td>\n",
       "      <td>Dr. Jekyll and Mr. Hyde</td>\n",
       "      <td>1.34</td>\n",
       "      <td>1405</td>\n",
       "      <td>7.6</td>\n",
       "      <td>1931-12-31</td>\n",
       "    </tr>\n",
       "    <tr>\n",
       "      <td>2</td>\n",
       "      <td>tt0024216</td>\n",
       "      <td>King Kong</td>\n",
       "      <td>13.88</td>\n",
       "      <td>703</td>\n",
       "      <td>7.9</td>\n",
       "      <td>1933-04-07</td>\n",
       "    </tr>\n",
       "    <tr>\n",
       "      <td>3</td>\n",
       "      <td>tt0024894</td>\n",
       "      <td>The Black Cat</td>\n",
       "      <td>1.46</td>\n",
       "      <td>1039</td>\n",
       "      <td>7.0</td>\n",
       "      <td>1934-05-07</td>\n",
       "    </tr>\n",
       "    <tr>\n",
       "      <td>4</td>\n",
       "      <td>tt0034587</td>\n",
       "      <td>Cat People</td>\n",
       "      <td>28.85</td>\n",
       "      <td>1087</td>\n",
       "      <td>7.3</td>\n",
       "      <td>1942-12-05</td>\n",
       "    </tr>\n",
       "  </tbody>\n",
       "</table>\n",
       "</div>"
      ],
      "text/plain": [
       "     imdb_id                    title    roi  imdb_rank  imdb_score  \\\n",
       "0  tt0021884             Frankenstein  40.24        389         7.8   \n",
       "1  tt0022835  Dr. Jekyll and Mr. Hyde   1.34       1405         7.6   \n",
       "2  tt0024216                King Kong  13.88        703         7.9   \n",
       "3  tt0024894            The Black Cat   1.46       1039         7.0   \n",
       "4  tt0034587               Cat People  28.85       1087         7.3   \n",
       "\n",
       "  release_date  \n",
       "0   1931-11-21  \n",
       "1   1931-12-31  \n",
       "2   1933-04-07  \n",
       "3   1934-05-07  \n",
       "4   1942-12-05  "
      ]
     },
     "execution_count": 5,
     "metadata": {},
     "output_type": "execute_result"
    }
   ],
   "source": [
    "df.head()"
   ]
  },
  {
   "cell_type": "code",
   "execution_count": 6,
   "metadata": {},
   "outputs": [],
   "source": [
    "cnx.close()"
   ]
  },
  {
   "cell_type": "code",
   "execution_count": 7,
   "metadata": {},
   "outputs": [],
   "source": [
    "df['release_year'] = df['release_date'].str[:4]"
   ]
  },
  {
   "cell_type": "code",
   "execution_count": 8,
   "metadata": {},
   "outputs": [
    {
     "data": {
      "text/plain": [
       "0     1931-11-21\n",
       "1     1931-12-31\n",
       "2     1933-04-07\n",
       "3     1934-05-07\n",
       "4     1942-12-05\n",
       "         ...    \n",
       "580   2019-07-11\n",
       "581   2019-08-08\n",
       "582   2019-09-04\n",
       "583   2019-09-05\n",
       "584   2019-10-09\n",
       "Name: release_date, Length: 585, dtype: datetime64[ns]"
      ]
     },
     "execution_count": 8,
     "metadata": {},
     "output_type": "execute_result"
    }
   ],
   "source": [
    "pd.to_datetime(df['release_date'], format = '%Y-%m-%d')"
   ]
  },
  {
   "cell_type": "code",
   "execution_count": 9,
   "metadata": {
    "scrolled": true
   },
   "outputs": [
    {
     "data": {
      "text/plain": [
       "count      585.000000\n",
       "mean        48.975573\n",
       "std        623.386744\n",
       "min         -1.000000\n",
       "25%          0.040000\n",
       "50%          1.580000\n",
       "75%          5.490000\n",
       "max      12889.400000\n",
       "Name: roi, dtype: float64"
      ]
     },
     "execution_count": 9,
     "metadata": {},
     "output_type": "execute_result"
    }
   ],
   "source": [
    "df['roi'].describe()"
   ]
  },
  {
   "cell_type": "code",
   "execution_count": 10,
   "metadata": {
    "scrolled": false
   },
   "outputs": [],
   "source": [
    "line_graph_data = df.groupby(pd.to_datetime(df['release_year'], format = '%Y'))['roi'].median()"
   ]
  },
  {
   "cell_type": "code",
   "execution_count": 11,
   "metadata": {},
   "outputs": [],
   "source": [
    "recessions = [\n",
    "    {\n",
    "        'start': '1929-08-01',\n",
    "        'end': '1932-03-01'\n",
    "    },\n",
    "    {\n",
    "        'start': '1937-05-01',\n",
    "        'end': '1938-06-01'\n",
    "    },\n",
    "    {\n",
    "        'start': '1945-02-01',\n",
    "        'end': '1945-10-01'\n",
    "    },\n",
    "    {\n",
    "        'start': '1957-08-01',\n",
    "        'end': '1958-04-01'\n",
    "    },\n",
    "    {\n",
    "        'start': '1973-11-01',\n",
    "        'end': '1975-03-01'\n",
    "    },\n",
    "    {\n",
    "        'start': '2007-12-01',\n",
    "        'end': '2009-06-01'\n",
    "    }\n",
    "]\n",
    "\n",
    "for recession in recessions:\n",
    "    pd.to_datetime(recession['start'], format='%Y-%m-%d')\n",
    "    pd.to_datetime(recession['end'], format='%Y-%m-%d')"
   ]
  },
  {
   "cell_type": "code",
   "execution_count": 12,
   "metadata": {},
   "outputs": [],
   "source": [
    "# source: https://www.benefits.va.gov/pension/wartimeperiod.asp\n",
    "\n",
    "wars = [\n",
    "    {\n",
    "        'start': '1941-12-07',\n",
    "        'end': '1946-12-31'\n",
    "    },\n",
    "    {\n",
    "        'start': '1950-06-27',\n",
    "        'end': '1955-01-31'\n",
    "    },\n",
    "    {\n",
    "        'start': '1961-02-28',\n",
    "        'end': '1975-05-07'\n",
    "    },\n",
    "    {\n",
    "        'start': '1990-08-02',\n",
    "        'end': '1991-04-06'\n",
    "    },\n",
    "    {\n",
    "        'start': '2001-10-07',\n",
    "        'end': '2019-12-31'\n",
    "    }\n",
    "]\n",
    "\n",
    "for war in wars:\n",
    "    pd.to_datetime(war['start'], format='%Y-%m-%d')\n",
    "    pd.to_datetime(war['end'], format='%Y-%m-%d')"
   ]
  },
  {
   "cell_type": "code",
   "execution_count": 13,
   "metadata": {},
   "outputs": [
    {
     "data": {
      "image/png": "[encoded data removed]",
      "text/plain": [
       "<Figure size 1008x504 with 2 Axes>"
      ]
     },
     "metadata": {
      "needs_background": "light"
     },
     "output_type": "display_data"
    }
   ],
   "source": [
    "roi_stats = df['roi']\n",
    "\n",
    "fig = plt.figure(figsize=(14,7))\n",
    "\n",
    "ax1 = fig.add_subplot(121)\n",
    "ax1.boxplot(roi_stats)\n",
    "ax1.set_title('Descriptive Stats of ROI\\n(All Horror Movies)', {'fontsize': 16})\n",
    "ax1.set_ylabel('Percent Return on Investment', {'fontsize': 16})\n",
    "ax1.set_ylim(0,14000);\n",
    "\n",
    "ax2 = fig.add_subplot(122)\n",
    "ax2.boxplot(roi_stats)\n",
    "ax2.set_title('Descriptive Stats of ROI\\n(All Horror Movies with -5% < ROI < 50%)', {'fontsize': 16})\n",
    "ax2.set_ylim(-5,50);"
   ]
  },
  {
   "cell_type": "code",
   "execution_count": 17,
   "metadata": {},
   "outputs": [
    {
     "data": {
      "image/png": "[encoded data removed]",
      "text/plain": [
       "<Figure size 720x576 with 1 Axes>"
      ]
     },
     "metadata": {
      "needs_background": "light"
     },
     "output_type": "display_data"
    }
   ],
   "source": [
    "fig_recession = plt.figure(figsize=(10,8))\n",
    "ax_RecWar = fig_recession.add_subplot(111)\n",
    "\n",
    "ax_RecWar.plot(line_graph_data, label = 'Median Ann. ROI %', color='b')\n",
    "ax_RecWar.legend()\n",
    "ax_RecWar.set_ylim(-25,200)\n",
    "ax_RecWar.set_title('Median Annual Return on Investments\\nDuring U.S. Recessionary (Grey) & Wartime (Yellow) Periods', {'fontsize': 16})\n",
    "ax_RecWar.set_ylabel('Percent Return on Investments', {'fontsize': 16})\n",
    "\n",
    "for recession in recessions:\n",
    "    ax_RecWar.axvspan(recession['start'],recession['end'],0,200, color=(0.5, 0.5, 0.5, 0.5))\n",
    "    \n",
    "for war in wars:\n",
    "    ax_RecWar.axvspan(war['start'],war['end'],0,200, color=(0.9, 1.0, 0.5, 0.5))"
   ]
  }
 ],
 "metadata": {
  "kernelspec": {
   "display_name": "Python 3",
   "language": "python",
   "name": "python3"
  },
  "language_info": {
   "codemirror_mode": {
    "name": "ipython",
    "version": 3
   },
   "file_extension": ".py",
   "mimetype": "text/x-python",
   "name": "python",
   "nbconvert_exporter": "python",
   "pygments_lexer": "ipython3",
   "version": "3.7.3"
  }
 },
 "nbformat": 4,
 "nbformat_minor": 2
}
