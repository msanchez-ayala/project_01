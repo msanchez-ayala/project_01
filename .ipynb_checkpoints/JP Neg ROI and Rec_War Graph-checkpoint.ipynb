{
 "cells": [
  {
   "cell_type": "markdown",
   "metadata": {},
   "source": [
    "# Connect to database to run queries"
   ]
  },
  {
   "cell_type": "code",
   "execution_count": 1,
   "metadata": {},
   "outputs": [],
   "source": [
    "import mysql.connector\n",
    "import config\n",
    "import pandas as pd\n",
    "import matplotlib.pyplot as plt\n",
    "import numpy as np\n",
    "%matplotlib inline"
   ]
  },
  {
   "cell_type": "code",
   "execution_count": 2,
   "metadata": {},
   "outputs": [],
   "source": [
    "cnx = mysql.connector.connect(\n",
    "        host = config.host,\n",
    "        user = config.user,\n",
    "        password = config.password,\n",
    "        database = 'movies'\n",
    ")\n",
    "cursor = cnx.cursor(buffered=True)"
   ]
  },
  {
   "cell_type": "markdown",
   "metadata": {},
   "source": [
    "## Query Group 1: grab movies to populate line graph chart. This chart will show average revenue by release_year with a backdrop depicting U.S. recessionary and wartime periods"
   ]
  },
  {
   "cell_type": "markdown",
   "metadata": {},
   "source": [
    "Query 1.1: Grab all horror movies where budget > 50,000 and revenue > 0. Order by release date"
   ]
  },
  {
   "cell_type": "code",
   "execution_count": 3,
   "metadata": {},
   "outputs": [
    {
     "data": {
      "text/html": [
       "<div>\n",
       "<style scoped>\n",
       "    .dataframe tbody tr th:only-of-type {\n",
       "        vertical-align: middle;\n",
       "    }\n",
       "\n",
       "    .dataframe tbody tr th {\n",
       "        vertical-align: top;\n",
       "    }\n",
       "\n",
       "    .dataframe thead th {\n",
       "        text-align: right;\n",
       "    }\n",
       "</style>\n",
       "<table border=\"1\" class=\"dataframe\">\n",
       "  <thead>\n",
       "    <tr style=\"text-align: right;\">\n",
       "      <th></th>\n",
       "      <th>imdb_id</th>\n",
       "      <th>title</th>\n",
       "      <th>revenue</th>\n",
       "      <th>budget</th>\n",
       "      <th>roi</th>\n",
       "      <th>release_date</th>\n",
       "    </tr>\n",
       "  </thead>\n",
       "  <tbody>\n",
       "    <tr>\n",
       "      <td>0</td>\n",
       "      <td>tt7791106</td>\n",
       "      <td>Shob Bhooturey</td>\n",
       "      <td>225000</td>\n",
       "      <td>250000</td>\n",
       "      <td>-10.0</td>\n",
       "      <td></td>\n",
       "    </tr>\n",
       "  </tbody>\n",
       "</table>\n",
       "</div>"
      ],
      "text/plain": [
       "     imdb_id           title  revenue  budget   roi release_date\n",
       "0  tt7791106  Shob Bhooturey   225000  250000 -10.0             "
      ]
     },
     "execution_count": 3,
     "metadata": {},
     "output_type": "execute_result"
    }
   ],
   "source": [
    "cursor.execute(\"\"\"\n",
    "SELECT\n",
    "\timdb_id,\n",
    "    title,\n",
    "    revenue,\n",
    "    budget,\n",
    "    roi,\n",
    "    release_date\n",
    "FROM\n",
    "    tmdb_horror\n",
    "WHERE\n",
    "    budget > 50000\n",
    "AND\n",
    "    revenue > 0\n",
    "ORDER BY\n",
    "\trelease_date\n",
    ";\n",
    "\"\"\")\n",
    "horror_data = cursor.fetchall()\n",
    "column_names = ['imdb_id', 'title', 'revenue', 'budget', 'roi', 'release_date']\n",
    "df_horror = pd.DataFrame(horror_data,columns=column_names)\n",
    "df_horror[df_horror['release_date'] == '']"
   ]
  },
  {
   "cell_type": "code",
   "execution_count": 5,
   "metadata": {},
   "outputs": [],
   "source": [
    "#update Shob Bhooturey's release date.\n",
    "df_horror['release_date'].iloc[0] = '2017-09-08'\n",
    "\n",
    "#create a new columm called 'release_year' to have just the year the movie is released. Needed for avg_revenue by year.\n",
    "df_horror['release_year'] = df_horror['release_date'].str[:4]\n",
    "\n",
    "#convert years from strings into dates, group by release year and calc average revenue\n",
    "horror_line_graph_data = df_horror.groupby(pd.to_datetime(df_horror['release_year'], format = '%Y'))['revenue'].mean()"
   ]
  },
  {
   "cell_type": "markdown",
   "metadata": {},
   "source": [
    "Query 1.2: Grab all comedy movies where budget > 50,000 and revenue > 0. Order by release date"
   ]
  },
  {
   "cell_type": "code",
   "execution_count": 6,
   "metadata": {},
   "outputs": [
    {
     "data": {
      "text/html": [
       "<div>\n",
       "<style scoped>\n",
       "    .dataframe tbody tr th:only-of-type {\n",
       "        vertical-align: middle;\n",
       "    }\n",
       "\n",
       "    .dataframe tbody tr th {\n",
       "        vertical-align: top;\n",
       "    }\n",
       "\n",
       "    .dataframe thead th {\n",
       "        text-align: right;\n",
       "    }\n",
       "</style>\n",
       "<table border=\"1\" class=\"dataframe\">\n",
       "  <thead>\n",
       "    <tr style=\"text-align: right;\">\n",
       "      <th></th>\n",
       "      <th>imdb_id</th>\n",
       "      <th>title</th>\n",
       "      <th>revenue</th>\n",
       "      <th>roi</th>\n",
       "      <th>release_date</th>\n",
       "    </tr>\n",
       "  </thead>\n",
       "  <tbody>\n",
       "  </tbody>\n",
       "</table>\n",
       "</div>"
      ],
      "text/plain": [
       "Empty DataFrame\n",
       "Columns: [imdb_id, title, revenue, roi, release_date]\n",
       "Index: []"
      ]
     },
     "execution_count": 6,
     "metadata": {},
     "output_type": "execute_result"
    }
   ],
   "source": [
    "cursor.execute(\"\"\"\n",
    "SELECT\n",
    "\timdb_id,\n",
    "    title,\n",
    "    revenue,\n",
    "    roi,\n",
    "    release_date\n",
    "FROM\n",
    "    movies.tmdb_comedy\n",
    "WHERE\n",
    "    budget > 50000\n",
    "AND\n",
    "    revenue > 0\n",
    "ORDER BY\n",
    "\trelease_date\n",
    ";\n",
    "\"\"\")\n",
    "comedy_data = cursor.fetchall()\n",
    "column_names = ['imdb_id', 'title', 'revenue', 'roi', 'release_date']\n",
    "df_comedy = pd.DataFrame(comedy_data,columns=column_names)\n",
    "df_comedy[df_comedy['release_date']=='']"
   ]
  },
  {
   "cell_type": "code",
   "execution_count": 7,
   "metadata": {},
   "outputs": [],
   "source": [
    "df_comedy['release_year'] = df_comedy['release_date'].str[:4]\n",
    "comedy_line_graph_data = df_comedy.groupby(pd.to_datetime(df_comedy['release_year'], format = '%Y'))['revenue'].mean()"
   ]
  },
  {
   "cell_type": "markdown",
   "metadata": {},
   "source": [
    "Query 1.3: Grab all action movies where budget > 50,000 and revenue > 0. Order by release date"
   ]
  },
  {
   "cell_type": "code",
   "execution_count": 8,
   "metadata": {},
   "outputs": [
    {
     "data": {
      "text/html": [
       "<div>\n",
       "<style scoped>\n",
       "    .dataframe tbody tr th:only-of-type {\n",
       "        vertical-align: middle;\n",
       "    }\n",
       "\n",
       "    .dataframe tbody tr th {\n",
       "        vertical-align: top;\n",
       "    }\n",
       "\n",
       "    .dataframe thead th {\n",
       "        text-align: right;\n",
       "    }\n",
       "</style>\n",
       "<table border=\"1\" class=\"dataframe\">\n",
       "  <thead>\n",
       "    <tr style=\"text-align: right;\">\n",
       "      <th></th>\n",
       "      <th>imdb_id</th>\n",
       "      <th>title</th>\n",
       "      <th>revenue</th>\n",
       "      <th>roi</th>\n",
       "      <th>release_date</th>\n",
       "    </tr>\n",
       "  </thead>\n",
       "  <tbody>\n",
       "  </tbody>\n",
       "</table>\n",
       "</div>"
      ],
      "text/plain": [
       "Empty DataFrame\n",
       "Columns: [imdb_id, title, revenue, roi, release_date]\n",
       "Index: []"
      ]
     },
     "execution_count": 8,
     "metadata": {},
     "output_type": "execute_result"
    }
   ],
   "source": [
    "cursor.execute(\"\"\"\n",
    "SELECT\n",
    "\timdb_id,\n",
    "    title,\n",
    "    revenue,\n",
    "    roi,\n",
    "    release_date\n",
    "FROM\n",
    "    movies.tmdb_action\n",
    "WHERE\n",
    "    budget > 50000\n",
    "AND\n",
    "    revenue > 0\n",
    "ORDER BY\n",
    "\trelease_date\n",
    ";\n",
    "\"\"\")\n",
    "\n",
    "action_data = cursor.fetchall()\n",
    "column_names = ['imdb_id', 'title', 'revenue', 'roi', 'release_date']\n",
    "df_action = pd.DataFrame(action_data,columns=column_names)\n",
    "df_action[df_action['release_date']=='']"
   ]
  },
  {
   "cell_type": "code",
   "execution_count": 9,
   "metadata": {},
   "outputs": [],
   "source": [
    "#drop '20,000 Leagues Under the Sea. Only want movies released after 1929'\n",
    "df_action.drop([0], axis=0, inplace=True)\n",
    "\n",
    "#create a new columm called 'release_year' to have just the year the movie is released. Needed for avg_revenue by year.\n",
    "df_action['release_year'] = df_action['release_date'].str[:4]\n",
    "\n",
    "#convert years from strings into dates, group by release year and calc average revenue\n",
    "action_line_graph_data = df_action.groupby(pd.to_datetime(df_action['release_year'], format = '%Y'))['revenue'].mean()"
   ]
  },
  {
   "cell_type": "markdown",
   "metadata": {},
   "source": [
    "Query 1.4: Grab all adventure movies where budget > 50,000 and revenue > 0. Order by release date"
   ]
  },
  {
   "cell_type": "code",
   "execution_count": 10,
   "metadata": {},
   "outputs": [
    {
     "data": {
      "text/html": [
       "<div>\n",
       "<style scoped>\n",
       "    .dataframe tbody tr th:only-of-type {\n",
       "        vertical-align: middle;\n",
       "    }\n",
       "\n",
       "    .dataframe tbody tr th {\n",
       "        vertical-align: top;\n",
       "    }\n",
       "\n",
       "    .dataframe thead th {\n",
       "        text-align: right;\n",
       "    }\n",
       "</style>\n",
       "<table border=\"1\" class=\"dataframe\">\n",
       "  <thead>\n",
       "    <tr style=\"text-align: right;\">\n",
       "      <th></th>\n",
       "      <th>imdb_id</th>\n",
       "      <th>title</th>\n",
       "      <th>revenue</th>\n",
       "      <th>roi</th>\n",
       "      <th>release_date</th>\n",
       "      <th>release_year</th>\n",
       "    </tr>\n",
       "  </thead>\n",
       "  <tbody>\n",
       "  </tbody>\n",
       "</table>\n",
       "</div>"
      ],
      "text/plain": [
       "Empty DataFrame\n",
       "Columns: [imdb_id, title, revenue, roi, release_date, release_year]\n",
       "Index: []"
      ]
     },
     "execution_count": 10,
     "metadata": {},
     "output_type": "execute_result"
    }
   ],
   "source": [
    "cursor.execute(\"\"\"\n",
    "SELECT\n",
    "\timdb_id,\n",
    "    title,\n",
    "    revenue,\n",
    "    roi,\n",
    "    release_date\n",
    "FROM\n",
    "    movies.tmdb_adventure\n",
    "WHERE\n",
    "    budget > 50000\n",
    "ORDER BY\n",
    "\trelease_date\n",
    ";\n",
    "\"\"\")\n",
    "\n",
    "adventure_data = cursor.fetchall()\n",
    "column_names = ['imdb_id', 'title', 'revenue', 'roi', 'release_date']\n",
    "df_adventure = pd.DataFrame(adventure_data,columns=column_names)\n",
    "df_action[df_action['release_date']=='']"
   ]
  },
  {
   "cell_type": "code",
   "execution_count": 11,
   "metadata": {},
   "outputs": [],
   "source": [
    "#drop movies released prior to 1930.\n",
    "df_adventure.drop([0,1,2,3,4,5,6,7,8], axis=0, inplace=True)\n",
    "\n",
    "#create a new columm called 'release_year' to have just the year the movie is released. Needed for avg_revenue by year.\n",
    "df_adventure['release_year'] = df_adventure['release_date'].str[:4]\n",
    "\n",
    "#convert years from strings into dates, group by release year and calc average revenue\n",
    "adventure_line_graph_data = df_adventure.groupby(pd.to_datetime(df_adventure['release_year'], format = '%Y'))['revenue'].mean()"
   ]
  },
  {
   "cell_type": "markdown",
   "metadata": {},
   "source": [
    "Add recession and wartime periods as list of dictionaries. Format dates."
   ]
  },
  {
   "cell_type": "code",
   "execution_count": 12,
   "metadata": {},
   "outputs": [],
   "source": [
    "recessions = [\n",
    "    {'start': '1929-08-01', 'end': '1932-03-01'},\n",
    "    {'start': '1937-05-01', 'end': '1938-06-01'},\n",
    "    {'start': '1945-02-01', 'end': '1945-10-01'},\n",
    "    {'start': '1957-08-01', 'end': '1958-04-01'},\n",
    "    {'start': '1973-11-01', 'end': '1975-03-01'},\n",
    "    {'start': '2007-12-01', 'end': '2009-06-01'}\n",
    "]\n",
    "\n",
    "for recession in recessions:\n",
    "    pd.to_datetime(recession['start'], format='%Y-%m-%d')\n",
    "    pd.to_datetime(recession['end'], format='%Y-%m-%d')\n",
    "\n",
    "\n",
    "wars = [\n",
    "    {'start': '1941-12-07', 'end': '1946-12-31'},\n",
    "    {'start': '1950-06-27', 'end': '1955-01-31'},\n",
    "    {'start': '1961-02-28', 'end': '1975-05-07'},\n",
    "    {'start': '1990-08-02', 'end': '1991-04-06'},\n",
    "    {'start': '2001-10-07', 'end': '2019-12-31'}\n",
    "]\n",
    "\n",
    "for war in wars:\n",
    "    pd.to_datetime(war['start'], format='%Y-%m-%d')\n",
    "    pd.to_datetime(war['end'], format='%Y-%m-%d')"
   ]
  },
  {
   "cell_type": "markdown",
   "metadata": {},
   "source": [
    "Create line graph"
   ]
  },
  {
   "cell_type": "code",
   "execution_count": 13,
   "metadata": {},
   "outputs": [
    {
     "name": "stderr",
     "output_type": "stream",
     "text": [
      "/Users/JacquesPierre/anaconda3/lib/python3.7/site-packages/pandas/plotting/_matplotlib/converter.py:103: FutureWarning: Using an implicitly registered datetime converter for a matplotlib plotting method. The converter was registered by pandas on import. Future versions of pandas will require you to explicitly register matplotlib converters.\n",
      "\n",
      "To register the converters:\n",
      "\t>>> from pandas.plotting import register_matplotlib_converters\n",
      "\t>>> register_matplotlib_converters()\n",
      "  warnings.warn(msg, FutureWarning)\n"
     ]
    },
    {
     "data": {
      "image/png": "[encoded data removed]",
      "text/plain": [
       "<Figure size 720x576 with 1 Axes>"
      ]
     },
     "metadata": {
      "needs_background": "light"
     },
     "output_type": "display_data"
    }
   ],
   "source": [
    "fig = plt.figure(figsize=(10,8))\n",
    "ax_RecWar = fig.add_subplot(111)\n",
    "\n",
    "\n",
    "ax_RecWar.plot(action_line_graph_data, label = 'Action', color='green')\n",
    "ax_RecWar.plot(adventure_line_graph_data, label = 'Adventure', color='purple')\n",
    "ax_RecWar.plot(comedy_line_graph_data, label = 'Comedy', color='red')\n",
    "ax_RecWar.plot(horror_line_graph_data, label = 'Horror', color='blue')\n",
    "ax_RecWar.legend()\n",
    "ax_RecWar.set_title('Average Revenue by Genre During U.S.\\nRecessionary (Grey) & Wartime (Yellow) Periods', {'fontsize': 16})\n",
    "ax_RecWar.set_ylabel('Dollars', {'fontsize': 16})\n",
    "\n",
    "for recession in recessions:\n",
    "    ax_RecWar.axvspan(recession['start'],recession['end'],0,200, color=(0.5, 0.5, 0.5, 0.5))\n",
    "    \n",
    "for war in wars:\n",
    "    ax_RecWar.axvspan(war['start'],war['end'],0,200, color=(0.9, 1.0, 0.5, 0.5))"
   ]
  },
  {
   "cell_type": "markdown",
   "metadata": {},
   "source": [
    "## Query Group 2: grab movies to populate negative roi bar chart. This chart will show average ROIs for movies that lost money"
   ]
  },
  {
   "cell_type": "markdown",
   "metadata": {},
   "source": [
    "Query 2.1: Grab all horror movies where budget > 50,000 and ROI < 0. Order by ROI"
   ]
  },
  {
   "cell_type": "code",
   "execution_count": 14,
   "metadata": {},
   "outputs": [
    {
     "data": {
      "text/html": [
       "<div>\n",
       "<style scoped>\n",
       "    .dataframe tbody tr th:only-of-type {\n",
       "        vertical-align: middle;\n",
       "    }\n",
       "\n",
       "    .dataframe tbody tr th {\n",
       "        vertical-align: top;\n",
       "    }\n",
       "\n",
       "    .dataframe thead th {\n",
       "        text-align: right;\n",
       "    }\n",
       "</style>\n",
       "<table border=\"1\" class=\"dataframe\">\n",
       "  <thead>\n",
       "    <tr style=\"text-align: right;\">\n",
       "      <th></th>\n",
       "      <th>revenue</th>\n",
       "      <th>roi</th>\n",
       "    </tr>\n",
       "  </thead>\n",
       "  <tbody>\n",
       "    <tr>\n",
       "      <td>count</td>\n",
       "      <td>1.960000e+02</td>\n",
       "      <td>196.000000</td>\n",
       "    </tr>\n",
       "    <tr>\n",
       "      <td>mean</td>\n",
       "      <td>6.617800e+06</td>\n",
       "      <td>-65.633163</td>\n",
       "    </tr>\n",
       "    <tr>\n",
       "      <td>std</td>\n",
       "      <td>1.160469e+07</td>\n",
       "      <td>29.684112</td>\n",
       "    </tr>\n",
       "    <tr>\n",
       "      <td>min</td>\n",
       "      <td>2.000000e+00</td>\n",
       "      <td>-100.000000</td>\n",
       "    </tr>\n",
       "    <tr>\n",
       "      <td>25%</td>\n",
       "      <td>1.750730e+05</td>\n",
       "      <td>-93.165000</td>\n",
       "    </tr>\n",
       "    <tr>\n",
       "      <td>50%</td>\n",
       "      <td>1.140688e+06</td>\n",
       "      <td>-72.550000</td>\n",
       "    </tr>\n",
       "    <tr>\n",
       "      <td>75%</td>\n",
       "      <td>7.962503e+06</td>\n",
       "      <td>-42.497500</td>\n",
       "    </tr>\n",
       "    <tr>\n",
       "      <td>max</td>\n",
       "      <td>7.800059e+07</td>\n",
       "      <td>-0.310000</td>\n",
       "    </tr>\n",
       "  </tbody>\n",
       "</table>\n",
       "</div>"
      ],
      "text/plain": [
       "            revenue         roi\n",
       "count  1.960000e+02  196.000000\n",
       "mean   6.617800e+06  -65.633163\n",
       "std    1.160469e+07   29.684112\n",
       "min    2.000000e+00 -100.000000\n",
       "25%    1.750730e+05  -93.165000\n",
       "50%    1.140688e+06  -72.550000\n",
       "75%    7.962503e+06  -42.497500\n",
       "max    7.800059e+07   -0.310000"
      ]
     },
     "execution_count": 14,
     "metadata": {},
     "output_type": "execute_result"
    }
   ],
   "source": [
    "cursor.execute(\"\"\"\n",
    "SELECT\n",
    "\timdb_id,\n",
    "    title,\n",
    "    revenue,\n",
    "    roi,\n",
    "    release_date\n",
    "FROM\n",
    "    movies.tmdb_horror\n",
    "WHERE\n",
    "    budget > 50000\n",
    "AND\n",
    "    roi < 0\n",
    "ORDER BY\n",
    "\troi\n",
    ";\n",
    "\"\"\")\n",
    "\n",
    "horror_data2 = cursor.fetchall()\n",
    "column_names = ['imdb_id', 'title', 'revenue', 'roi', 'release_date']\n",
    "df2_horror = pd.DataFrame(horror_data2,columns=column_names)\n",
    "df2_horror.describe()"
   ]
  },
  {
   "cell_type": "code",
   "execution_count": 15,
   "metadata": {},
   "outputs": [],
   "source": [
    "#calc average ROI\n",
    "roi_h = df2_horror['roi'].mean()"
   ]
  },
  {
   "cell_type": "markdown",
   "metadata": {},
   "source": [
    "Query 2.2: Grab all comedy movies where budget > 50,000 and ROI < 0. Order by ROI"
   ]
  },
  {
   "cell_type": "code",
   "execution_count": 16,
   "metadata": {},
   "outputs": [
    {
     "data": {
      "text/html": [
       "<div>\n",
       "<style scoped>\n",
       "    .dataframe tbody tr th:only-of-type {\n",
       "        vertical-align: middle;\n",
       "    }\n",
       "\n",
       "    .dataframe tbody tr th {\n",
       "        vertical-align: top;\n",
       "    }\n",
       "\n",
       "    .dataframe thead th {\n",
       "        text-align: right;\n",
       "    }\n",
       "</style>\n",
       "<table border=\"1\" class=\"dataframe\">\n",
       "  <thead>\n",
       "    <tr style=\"text-align: right;\">\n",
       "      <th></th>\n",
       "      <th>revenue</th>\n",
       "      <th>roi</th>\n",
       "    </tr>\n",
       "  </thead>\n",
       "  <tbody>\n",
       "    <tr>\n",
       "      <td>count</td>\n",
       "      <td>2.340000e+02</td>\n",
       "      <td>234.000000</td>\n",
       "    </tr>\n",
       "    <tr>\n",
       "      <td>mean</td>\n",
       "      <td>2.720974e+07</td>\n",
       "      <td>-32.459573</td>\n",
       "    </tr>\n",
       "    <tr>\n",
       "      <td>std</td>\n",
       "      <td>2.100550e+07</td>\n",
       "      <td>21.288690</td>\n",
       "    </tr>\n",
       "    <tr>\n",
       "      <td>min</td>\n",
       "      <td>9.366227e+06</td>\n",
       "      <td>-88.480000</td>\n",
       "    </tr>\n",
       "    <tr>\n",
       "      <td>25%</td>\n",
       "      <td>1.360270e+07</td>\n",
       "      <td>-48.377500</td>\n",
       "    </tr>\n",
       "    <tr>\n",
       "      <td>50%</td>\n",
       "      <td>1.884660e+07</td>\n",
       "      <td>-31.230000</td>\n",
       "    </tr>\n",
       "    <tr>\n",
       "      <td>75%</td>\n",
       "      <td>3.356184e+07</td>\n",
       "      <td>-13.340000</td>\n",
       "    </tr>\n",
       "    <tr>\n",
       "      <td>max</td>\n",
       "      <td>1.730000e+08</td>\n",
       "      <td>-0.120000</td>\n",
       "    </tr>\n",
       "  </tbody>\n",
       "</table>\n",
       "</div>"
      ],
      "text/plain": [
       "            revenue         roi\n",
       "count  2.340000e+02  234.000000\n",
       "mean   2.720974e+07  -32.459573\n",
       "std    2.100550e+07   21.288690\n",
       "min    9.366227e+06  -88.480000\n",
       "25%    1.360270e+07  -48.377500\n",
       "50%    1.884660e+07  -31.230000\n",
       "75%    3.356184e+07  -13.340000\n",
       "max    1.730000e+08   -0.120000"
      ]
     },
     "execution_count": 16,
     "metadata": {},
     "output_type": "execute_result"
    }
   ],
   "source": [
    "cursor.execute(\"\"\"\n",
    "SELECT\n",
    "\timdb_id,\n",
    "    title,\n",
    "    revenue,\n",
    "    roi,\n",
    "    release_date\n",
    "FROM\n",
    "    movies.tmdb_comedy\n",
    "WHERE\n",
    "    budget > 50000\n",
    "AND\n",
    "    roi < 0\n",
    "ORDER BY\n",
    "\troi\n",
    ";\n",
    "\"\"\")\n",
    "\n",
    "comedy_data2 = cursor.fetchall()\n",
    "column_names = ['imdb_id', 'title', 'revenue', 'roi', 'release_date']\n",
    "df2_comedy = pd.DataFrame(comedy_data2,columns=column_names)\n",
    "df2_comedy.describe()"
   ]
  },
  {
   "cell_type": "code",
   "execution_count": 17,
   "metadata": {},
   "outputs": [],
   "source": [
    "#calc average ROI\n",
    "roi_c = df2_comedy['roi'].mean()"
   ]
  },
  {
   "cell_type": "markdown",
   "metadata": {},
   "source": [
    "Query 2.3: Grab all action movies where budget > 50,000 and ROI < 0. Order by ROI"
   ]
  },
  {
   "cell_type": "code",
   "execution_count": 18,
   "metadata": {},
   "outputs": [
    {
     "data": {
      "text/html": [
       "<div>\n",
       "<style scoped>\n",
       "    .dataframe tbody tr th:only-of-type {\n",
       "        vertical-align: middle;\n",
       "    }\n",
       "\n",
       "    .dataframe tbody tr th {\n",
       "        vertical-align: top;\n",
       "    }\n",
       "\n",
       "    .dataframe thead th {\n",
       "        text-align: right;\n",
       "    }\n",
       "</style>\n",
       "<table border=\"1\" class=\"dataframe\">\n",
       "  <thead>\n",
       "    <tr style=\"text-align: right;\">\n",
       "      <th></th>\n",
       "      <th>revenue</th>\n",
       "      <th>roi</th>\n",
       "    </tr>\n",
       "  </thead>\n",
       "  <tbody>\n",
       "    <tr>\n",
       "      <td>count</td>\n",
       "      <td>3.910000e+02</td>\n",
       "      <td>391.000000</td>\n",
       "    </tr>\n",
       "    <tr>\n",
       "      <td>mean</td>\n",
       "      <td>1.885159e+07</td>\n",
       "      <td>-48.635754</td>\n",
       "    </tr>\n",
       "    <tr>\n",
       "      <td>std</td>\n",
       "      <td>2.343163e+07</td>\n",
       "      <td>27.609466</td>\n",
       "    </tr>\n",
       "    <tr>\n",
       "      <td>min</td>\n",
       "      <td>6.325420e+05</td>\n",
       "      <td>-98.840000</td>\n",
       "    </tr>\n",
       "    <tr>\n",
       "      <td>25%</td>\n",
       "      <td>3.982341e+06</td>\n",
       "      <td>-73.405000</td>\n",
       "    </tr>\n",
       "    <tr>\n",
       "      <td>50%</td>\n",
       "      <td>1.050194e+07</td>\n",
       "      <td>-48.840000</td>\n",
       "    </tr>\n",
       "    <tr>\n",
       "      <td>75%</td>\n",
       "      <td>2.341628e+07</td>\n",
       "      <td>-26.020000</td>\n",
       "    </tr>\n",
       "    <tr>\n",
       "      <td>max</td>\n",
       "      <td>1.509625e+08</td>\n",
       "      <td>-0.010000</td>\n",
       "    </tr>\n",
       "  </tbody>\n",
       "</table>\n",
       "</div>"
      ],
      "text/plain": [
       "            revenue         roi\n",
       "count  3.910000e+02  391.000000\n",
       "mean   1.885159e+07  -48.635754\n",
       "std    2.343163e+07   27.609466\n",
       "min    6.325420e+05  -98.840000\n",
       "25%    3.982341e+06  -73.405000\n",
       "50%    1.050194e+07  -48.840000\n",
       "75%    2.341628e+07  -26.020000\n",
       "max    1.509625e+08   -0.010000"
      ]
     },
     "execution_count": 18,
     "metadata": {},
     "output_type": "execute_result"
    }
   ],
   "source": [
    "cursor.execute(\"\"\"\n",
    "SELECT\n",
    "\timdb_id,\n",
    "    title,\n",
    "    revenue,\n",
    "    roi,\n",
    "    release_date\n",
    "FROM\n",
    "    movies.tmdb_action\n",
    "WHERE\n",
    "    budget > 50000\n",
    "AND\n",
    "    roi < 0\n",
    "ORDER BY\n",
    "\troi\n",
    ";\n",
    "\"\"\")\n",
    "\n",
    "action_data2 = cursor.fetchall()\n",
    "column_names = ['imdb_id', 'title', 'revenue', 'roi', 'release_date']\n",
    "df2_action = pd.DataFrame(action_data2,columns=column_names)\n",
    "df2_action.describe()"
   ]
  },
  {
   "cell_type": "code",
   "execution_count": 19,
   "metadata": {},
   "outputs": [],
   "source": [
    "#calc average ROI\n",
    "roi_ac = df2_action['roi'].mean()"
   ]
  },
  {
   "cell_type": "markdown",
   "metadata": {},
   "source": [
    "Query 2.4: Grab all adventure movies where budget > 50,000 and ROI < 0. Order by ROI"
   ]
  },
  {
   "cell_type": "code",
   "execution_count": 20,
   "metadata": {},
   "outputs": [
    {
     "data": {
      "text/html": [
       "<div>\n",
       "<style scoped>\n",
       "    .dataframe tbody tr th:only-of-type {\n",
       "        vertical-align: middle;\n",
       "    }\n",
       "\n",
       "    .dataframe tbody tr th {\n",
       "        vertical-align: top;\n",
       "    }\n",
       "\n",
       "    .dataframe thead th {\n",
       "        text-align: right;\n",
       "    }\n",
       "</style>\n",
       "<table border=\"1\" class=\"dataframe\">\n",
       "  <thead>\n",
       "    <tr style=\"text-align: right;\">\n",
       "      <th></th>\n",
       "      <th>revenue</th>\n",
       "      <th>roi</th>\n",
       "    </tr>\n",
       "  </thead>\n",
       "  <tbody>\n",
       "    <tr>\n",
       "      <td>count</td>\n",
       "      <td>2.700000e+02</td>\n",
       "      <td>270.000000</td>\n",
       "    </tr>\n",
       "    <tr>\n",
       "      <td>mean</td>\n",
       "      <td>1.999873e+07</td>\n",
       "      <td>-52.716778</td>\n",
       "    </tr>\n",
       "    <tr>\n",
       "      <td>std</td>\n",
       "      <td>2.561942e+07</td>\n",
       "      <td>30.214732</td>\n",
       "    </tr>\n",
       "    <tr>\n",
       "      <td>min</td>\n",
       "      <td>2.425000e+04</td>\n",
       "      <td>-99.780000</td>\n",
       "    </tr>\n",
       "    <tr>\n",
       "      <td>25%</td>\n",
       "      <td>2.499138e+06</td>\n",
       "      <td>-79.542500</td>\n",
       "    </tr>\n",
       "    <tr>\n",
       "      <td>50%</td>\n",
       "      <td>1.082784e+07</td>\n",
       "      <td>-51.955000</td>\n",
       "    </tr>\n",
       "    <tr>\n",
       "      <td>75%</td>\n",
       "      <td>2.682077e+07</td>\n",
       "      <td>-28.057500</td>\n",
       "    </tr>\n",
       "    <tr>\n",
       "      <td>max</td>\n",
       "      <td>1.509625e+08</td>\n",
       "      <td>-0.330000</td>\n",
       "    </tr>\n",
       "  </tbody>\n",
       "</table>\n",
       "</div>"
      ],
      "text/plain": [
       "            revenue         roi\n",
       "count  2.700000e+02  270.000000\n",
       "mean   1.999873e+07  -52.716778\n",
       "std    2.561942e+07   30.214732\n",
       "min    2.425000e+04  -99.780000\n",
       "25%    2.499138e+06  -79.542500\n",
       "50%    1.082784e+07  -51.955000\n",
       "75%    2.682077e+07  -28.057500\n",
       "max    1.509625e+08   -0.330000"
      ]
     },
     "execution_count": 20,
     "metadata": {},
     "output_type": "execute_result"
    }
   ],
   "source": [
    "cursor.execute(\"\"\"\n",
    "SELECT\n",
    "\timdb_id,\n",
    "    title,\n",
    "    revenue,\n",
    "    roi,\n",
    "    release_date\n",
    "FROM\n",
    "    movies.tmdb_adventure\n",
    "WHERE\n",
    "    budget > 50000\n",
    "AND\n",
    "    roi < 0\n",
    "ORDER BY\n",
    "\troi\n",
    ";\n",
    "\"\"\")\n",
    "\n",
    "adventure_data2 = cursor.fetchall()\n",
    "column_names = ['imdb_id', 'title', 'revenue', 'roi', 'release_date']\n",
    "df2_adventure = pd.DataFrame(adventure_data2,columns=column_names)\n",
    "df2_adventure.describe()"
   ]
  },
  {
   "cell_type": "code",
   "execution_count": 21,
   "metadata": {},
   "outputs": [],
   "source": [
    "#calc average ROI\n",
    "roi_ad = df2_adventure['roi'].mean()"
   ]
  },
  {
   "cell_type": "markdown",
   "metadata": {},
   "source": [
    "Add ROIs as list of dictionaries."
   ]
  },
  {
   "cell_type": "code",
   "execution_count": 22,
   "metadata": {},
   "outputs": [],
   "source": [
    "rois = [\n",
    "    {'genre': 'Comedy', 'roi': roi_c},\n",
    "    {'genre': 'Adventure', 'roi': roi_ad},\n",
    "    {'genre': 'Action', 'roi': roi_ac},\n",
    "    {'genre': 'Horror', 'roi': roi_h}\n",
    "]"
   ]
  },
  {
   "cell_type": "markdown",
   "metadata": {},
   "source": [
    "Create bar chart"
   ]
  },
  {
   "cell_type": "code",
   "execution_count": 23,
   "metadata": {},
   "outputs": [],
   "source": [
    "import seaborn as sns\n",
    "sns.set_style('whitegrid')"
   ]
  },
  {
   "cell_type": "code",
   "execution_count": 24,
   "metadata": {},
   "outputs": [
    {
     "data": {
      "image/png": "[encoded data removed]",
      "text/plain": [
       "<Figure size 720x576 with 1 Axes>"
      ]
     },
     "metadata": {},
     "output_type": "display_data"
    }
   ],
   "source": [
    "fig2 = plt.figure(figsize=(10,8))\n",
    "ax_avgroi = fig2.add_subplot(111)\n",
    "ax_avgroi.set_title('Average Negative ROI for All Movies', {'fontsize': 18})\n",
    "ax_avgroi.set_ylabel('Return on Investments (%)', {'fontsize': 16})\n",
    "\n",
    "\n",
    "for roi in rois:\n",
    "    ax_avgroi.bar(roi['genre'], roi['roi'], label = roi['genre'])"
   ]
  },
  {
   "cell_type": "code",
   "execution_count": 25,
   "metadata": {},
   "outputs": [],
   "source": [
    "cnx.close()"
   ]
  }
 ],
 "metadata": {
  "kernelspec": {
   "display_name": "Python 3",
   "language": "python",
   "name": "python3"
  },
  "language_info": {
   "codemirror_mode": {
    "name": "ipython",
    "version": 3
   },
   "file_extension": ".py",
   "mimetype": "text/x-python",
   "name": "python",
   "nbconvert_exporter": "python",
   "pygments_lexer": "ipython3",
   "version": "3.7.3"
  }
 },
 "nbformat": 4,
 "nbformat_minor": 2
}
