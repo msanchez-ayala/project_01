{
 "cells": [
  {
   "cell_type": "markdown",
   "metadata": {},
   "source": [
    "# Notebook creates Average ROI chart"
   ]
  },
  {
   "cell_type": "markdown",
   "metadata": {},
   "source": [
    "## Connect to database"
   ]
  },
  {
   "cell_type": "code",
   "execution_count": 1,
   "metadata": {},
   "outputs": [],
   "source": [
    "import mysql.connector\n",
    "import config\n",
    "import pandas as pd\n",
    "import matplotlib.pyplot as plt\n",
    "%matplotlib inline"
   ]
  },
  {
   "cell_type": "code",
   "execution_count": 2,
   "metadata": {},
   "outputs": [],
   "source": [
    "cnx = mysql.connector.connect(\n",
    "        host = config.host,\n",
    "        user = config.user,\n",
    "        password = config.password,\n",
    "        database = 'movies'\n",
    ")\n",
    "cursor = cnx.cursor(buffered=True)"
   ]
  },
  {
   "cell_type": "markdown",
   "metadata": {},
   "source": [
    "## Run queries"
   ]
  },
  {
   "cell_type": "markdown",
   "metadata": {},
   "source": [
    "Query 1: Grab all horror movies with budget > 50,000. Order by descending ROIs"
   ]
  },
  {
   "cell_type": "code",
   "execution_count": 3,
   "metadata": {},
   "outputs": [
    {
     "data": {
      "text/html": [
       "<div>\n",
       "<style scoped>\n",
       "    .dataframe tbody tr th:only-of-type {\n",
       "        vertical-align: middle;\n",
       "    }\n",
       "\n",
       "    .dataframe tbody tr th {\n",
       "        vertical-align: top;\n",
       "    }\n",
       "\n",
       "    .dataframe thead th {\n",
       "        text-align: right;\n",
       "    }\n",
       "</style>\n",
       "<table border=\"1\" class=\"dataframe\">\n",
       "  <thead>\n",
       "    <tr style=\"text-align: right;\">\n",
       "      <th></th>\n",
       "      <th>revenue</th>\n",
       "      <th>budget</th>\n",
       "      <th>roi</th>\n",
       "    </tr>\n",
       "  </thead>\n",
       "  <tbody>\n",
       "    <tr>\n",
       "      <td>count</td>\n",
       "      <td>7.240000e+02</td>\n",
       "      <td>7.240000e+02</td>\n",
       "      <td>724.000000</td>\n",
       "    </tr>\n",
       "    <tr>\n",
       "      <td>mean</td>\n",
       "      <td>5.079384e+07</td>\n",
       "      <td>1.588306e+07</td>\n",
       "      <td>1348.910138</td>\n",
       "    </tr>\n",
       "    <tr>\n",
       "      <td>std</td>\n",
       "      <td>7.953268e+07</td>\n",
       "      <td>2.200295e+07</td>\n",
       "      <td>15648.602079</td>\n",
       "    </tr>\n",
       "    <tr>\n",
       "      <td>min</td>\n",
       "      <td>2.000000e+00</td>\n",
       "      <td>5.000000e+04</td>\n",
       "      <td>-100.000000</td>\n",
       "    </tr>\n",
       "    <tr>\n",
       "      <td>25%</td>\n",
       "      <td>4.088250e+06</td>\n",
       "      <td>2.875000e+06</td>\n",
       "      <td>-15.825000</td>\n",
       "    </tr>\n",
       "    <tr>\n",
       "      <td>50%</td>\n",
       "      <td>2.028013e+07</td>\n",
       "      <td>8.500000e+06</td>\n",
       "      <td>137.460000</td>\n",
       "    </tr>\n",
       "    <tr>\n",
       "      <td>75%</td>\n",
       "      <td>6.413014e+07</td>\n",
       "      <td>2.000000e+07</td>\n",
       "      <td>431.350000</td>\n",
       "    </tr>\n",
       "    <tr>\n",
       "      <td>max</td>\n",
       "      <td>7.003817e+08</td>\n",
       "      <td>2.000000e+08</td>\n",
       "      <td>413233.000000</td>\n",
       "    </tr>\n",
       "  </tbody>\n",
       "</table>\n",
       "</div>"
      ],
      "text/plain": [
       "            revenue        budget            roi\n",
       "count  7.240000e+02  7.240000e+02     724.000000\n",
       "mean   5.079384e+07  1.588306e+07    1348.910138\n",
       "std    7.953268e+07  2.200295e+07   15648.602079\n",
       "min    2.000000e+00  5.000000e+04    -100.000000\n",
       "25%    4.088250e+06  2.875000e+06     -15.825000\n",
       "50%    2.028013e+07  8.500000e+06     137.460000\n",
       "75%    6.413014e+07  2.000000e+07     431.350000\n",
       "max    7.003817e+08  2.000000e+08  413233.000000"
      ]
     },
     "execution_count": 3,
     "metadata": {},
     "output_type": "execute_result"
    }
   ],
   "source": [
    "cursor.execute(\"\"\"\n",
    "SELECT\n",
    "\ttitle,\n",
    "    revenue,\n",
    "    budget,\n",
    "    roi,\n",
    "    release_date\n",
    "FROM\n",
    "\tmovies.tmdb_horror\n",
    "WHERE\n",
    "\tbudget >= 50000\n",
    "ORDER BY\n",
    "    roi DESC\n",
    ";\n",
    "\"\"\")\n",
    "\n",
    "horror_data = cursor.fetchall()\n",
    "column_names = ['title', 'revenue', 'budget', 'roi', 'release_date']\n",
    "df_horror = pd.DataFrame(horror_data,columns=column_names)\n",
    "df_horror.describe()"
   ]
  },
  {
   "cell_type": "code",
   "execution_count": 4,
   "metadata": {},
   "outputs": [],
   "source": [
    "#drop 'The Blair Witch Prohect' as an outlier\n",
    "df_horror_noBWP = df_horror.drop([0])"
   ]
  },
  {
   "cell_type": "code",
   "execution_count": 5,
   "metadata": {},
   "outputs": [
    {
     "data": {
      "text/html": [
       "<div>\n",
       "<style scoped>\n",
       "    .dataframe tbody tr th:only-of-type {\n",
       "        vertical-align: middle;\n",
       "    }\n",
       "\n",
       "    .dataframe tbody tr th {\n",
       "        vertical-align: top;\n",
       "    }\n",
       "\n",
       "    .dataframe thead th {\n",
       "        text-align: right;\n",
       "    }\n",
       "</style>\n",
       "<table border=\"1\" class=\"dataframe\">\n",
       "  <thead>\n",
       "    <tr style=\"text-align: right;\">\n",
       "      <th></th>\n",
       "      <th>revenue</th>\n",
       "      <th>budget</th>\n",
       "      <th>roi</th>\n",
       "    </tr>\n",
       "  </thead>\n",
       "  <tbody>\n",
       "    <tr>\n",
       "      <td>count</td>\n",
       "      <td>7.230000e+02</td>\n",
       "      <td>7.230000e+02</td>\n",
       "      <td>723.000000</td>\n",
       "    </tr>\n",
       "    <tr>\n",
       "      <td>mean</td>\n",
       "      <td>5.052108e+07</td>\n",
       "      <td>1.590494e+07</td>\n",
       "      <td>779.222600</td>\n",
       "    </tr>\n",
       "    <tr>\n",
       "      <td>std</td>\n",
       "      <td>7.924815e+07</td>\n",
       "      <td>2.201030e+07</td>\n",
       "      <td>3150.030866</td>\n",
       "    </tr>\n",
       "    <tr>\n",
       "      <td>min</td>\n",
       "      <td>2.000000e+00</td>\n",
       "      <td>5.000000e+04</td>\n",
       "      <td>-100.000000</td>\n",
       "    </tr>\n",
       "    <tr>\n",
       "      <td>25%</td>\n",
       "      <td>4.076500e+06</td>\n",
       "      <td>2.900000e+06</td>\n",
       "      <td>-16.230000</td>\n",
       "    </tr>\n",
       "    <tr>\n",
       "      <td>50%</td>\n",
       "      <td>2.000000e+07</td>\n",
       "      <td>8.500000e+06</td>\n",
       "      <td>137.430000</td>\n",
       "    </tr>\n",
       "    <tr>\n",
       "      <td>75%</td>\n",
       "      <td>6.393862e+07</td>\n",
       "      <td>2.000000e+07</td>\n",
       "      <td>430.045000</td>\n",
       "    </tr>\n",
       "    <tr>\n",
       "      <td>max</td>\n",
       "      <td>7.003817e+08</td>\n",
       "      <td>2.000000e+08</td>\n",
       "      <td>42564.400000</td>\n",
       "    </tr>\n",
       "  </tbody>\n",
       "</table>\n",
       "</div>"
      ],
      "text/plain": [
       "            revenue        budget           roi\n",
       "count  7.230000e+02  7.230000e+02    723.000000\n",
       "mean   5.052108e+07  1.590494e+07    779.222600\n",
       "std    7.924815e+07  2.201030e+07   3150.030866\n",
       "min    2.000000e+00  5.000000e+04   -100.000000\n",
       "25%    4.076500e+06  2.900000e+06    -16.230000\n",
       "50%    2.000000e+07  8.500000e+06    137.430000\n",
       "75%    6.393862e+07  2.000000e+07    430.045000\n",
       "max    7.003817e+08  2.000000e+08  42564.400000"
      ]
     },
     "execution_count": 5,
     "metadata": {},
     "output_type": "execute_result"
    }
   ],
   "source": [
    "df_horror_noBWP.describe()"
   ]
  },
  {
   "cell_type": "code",
   "execution_count": 6,
   "metadata": {},
   "outputs": [],
   "source": [
    "#calc average ROI\n",
    "roi_h = df_horror_noBWP['roi'].mean()"
   ]
  },
  {
   "cell_type": "markdown",
   "metadata": {},
   "source": [
    "Query 2: Grab all comedy movies with budget > 50,000. Order by descending ROIs"
   ]
  },
  {
   "cell_type": "code",
   "execution_count": 7,
   "metadata": {},
   "outputs": [
    {
     "data": {
      "text/html": [
       "<div>\n",
       "<style scoped>\n",
       "    .dataframe tbody tr th:only-of-type {\n",
       "        vertical-align: middle;\n",
       "    }\n",
       "\n",
       "    .dataframe tbody tr th {\n",
       "        vertical-align: top;\n",
       "    }\n",
       "\n",
       "    .dataframe thead th {\n",
       "        text-align: right;\n",
       "    }\n",
       "</style>\n",
       "<table border=\"1\" class=\"dataframe\">\n",
       "  <thead>\n",
       "    <tr style=\"text-align: right;\">\n",
       "      <th></th>\n",
       "      <th>revenue</th>\n",
       "      <th>budget</th>\n",
       "      <th>roi</th>\n",
       "    </tr>\n",
       "  </thead>\n",
       "  <tbody>\n",
       "    <tr>\n",
       "      <td>count</td>\n",
       "      <td>1.627000e+03</td>\n",
       "      <td>1.627000e+03</td>\n",
       "      <td>1627.000000</td>\n",
       "    </tr>\n",
       "    <tr>\n",
       "      <td>mean</td>\n",
       "      <td>1.132029e+08</td>\n",
       "      <td>3.574209e+07</td>\n",
       "      <td>458.371346</td>\n",
       "    </tr>\n",
       "    <tr>\n",
       "      <td>std</td>\n",
       "      <td>1.504551e+08</td>\n",
       "      <td>3.547945e+07</td>\n",
       "      <td>1676.809882</td>\n",
       "    </tr>\n",
       "    <tr>\n",
       "      <td>min</td>\n",
       "      <td>9.128263e+06</td>\n",
       "      <td>6.500000e+04</td>\n",
       "      <td>-88.480000</td>\n",
       "    </tr>\n",
       "    <tr>\n",
       "      <td>25%</td>\n",
       "      <td>2.531994e+07</td>\n",
       "      <td>1.100000e+07</td>\n",
       "      <td>47.805000</td>\n",
       "    </tr>\n",
       "    <tr>\n",
       "      <td>50%</td>\n",
       "      <td>5.788106e+07</td>\n",
       "      <td>2.500000e+07</td>\n",
       "      <td>173.240000</td>\n",
       "    </tr>\n",
       "    <tr>\n",
       "      <td>75%</td>\n",
       "      <td>1.400809e+08</td>\n",
       "      <td>5.000000e+07</td>\n",
       "      <td>391.720000</td>\n",
       "    </tr>\n",
       "    <tr>\n",
       "      <td>max</td>\n",
       "      <td>1.156731e+09</td>\n",
       "      <td>2.300000e+08</td>\n",
       "      <td>43861.700000</td>\n",
       "    </tr>\n",
       "  </tbody>\n",
       "</table>\n",
       "</div>"
      ],
      "text/plain": [
       "            revenue        budget           roi\n",
       "count  1.627000e+03  1.627000e+03   1627.000000\n",
       "mean   1.132029e+08  3.574209e+07    458.371346\n",
       "std    1.504551e+08  3.547945e+07   1676.809882\n",
       "min    9.128263e+06  6.500000e+04    -88.480000\n",
       "25%    2.531994e+07  1.100000e+07     47.805000\n",
       "50%    5.788106e+07  2.500000e+07    173.240000\n",
       "75%    1.400809e+08  5.000000e+07    391.720000\n",
       "max    1.156731e+09  2.300000e+08  43861.700000"
      ]
     },
     "execution_count": 7,
     "metadata": {},
     "output_type": "execute_result"
    }
   ],
   "source": [
    "cursor.execute(\"\"\"\n",
    "SELECT\n",
    "\ttitle,\n",
    "    revenue,\n",
    "    budget,\n",
    "    roi,\n",
    "    release_date\n",
    "FROM\n",
    "\tmovies.tmdb_comedy\n",
    "WHERE\n",
    "\tbudget >= 50000\n",
    "ORDER BY\n",
    "    roi DESC\n",
    ";\n",
    "\"\"\")\n",
    "\n",
    "comedy_data = cursor.fetchall()\n",
    "column_names = ['title', 'revenue', 'budget', 'roi', 'release_date']\n",
    "df_comedy = pd.DataFrame(comedy_data,columns=column_names)\n",
    "df_comedy.describe()"
   ]
  },
  {
   "cell_type": "code",
   "execution_count": 8,
   "metadata": {},
   "outputs": [],
   "source": [
    "#calc average ROI\n",
    "roi_c = df_comedy['roi'].mean()"
   ]
  },
  {
   "cell_type": "markdown",
   "metadata": {},
   "source": [
    "Query 3: Grab all adventure movies with budget > 50,000. Order by descending ROIs"
   ]
  },
  {
   "cell_type": "code",
   "execution_count": 9,
   "metadata": {},
   "outputs": [
    {
     "data": {
      "text/html": [
       "<div>\n",
       "<style scoped>\n",
       "    .dataframe tbody tr th:only-of-type {\n",
       "        vertical-align: middle;\n",
       "    }\n",
       "\n",
       "    .dataframe tbody tr th {\n",
       "        vertical-align: top;\n",
       "    }\n",
       "\n",
       "    .dataframe thead th {\n",
       "        text-align: right;\n",
       "    }\n",
       "</style>\n",
       "<table border=\"1\" class=\"dataframe\">\n",
       "  <thead>\n",
       "    <tr style=\"text-align: right;\">\n",
       "      <th></th>\n",
       "      <th>revenue</th>\n",
       "      <th>budget</th>\n",
       "      <th>roi</th>\n",
       "    </tr>\n",
       "  </thead>\n",
       "  <tbody>\n",
       "    <tr>\n",
       "      <td>count</td>\n",
       "      <td>1.113000e+03</td>\n",
       "      <td>1.113000e+03</td>\n",
       "      <td>1113.000000</td>\n",
       "    </tr>\n",
       "    <tr>\n",
       "      <td>mean</td>\n",
       "      <td>2.100953e+08</td>\n",
       "      <td>6.476563e+07</td>\n",
       "      <td>347.211429</td>\n",
       "    </tr>\n",
       "    <tr>\n",
       "      <td>std</td>\n",
       "      <td>3.009948e+08</td>\n",
       "      <td>6.500866e+07</td>\n",
       "      <td>1222.363192</td>\n",
       "    </tr>\n",
       "    <tr>\n",
       "      <td>min</td>\n",
       "      <td>2.425000e+04</td>\n",
       "      <td>5.000000e+04</td>\n",
       "      <td>-99.780000</td>\n",
       "    </tr>\n",
       "    <tr>\n",
       "      <td>25%</td>\n",
       "      <td>1.797974e+07</td>\n",
       "      <td>1.400000e+07</td>\n",
       "      <td>3.930000</td>\n",
       "    </tr>\n",
       "    <tr>\n",
       "      <td>50%</td>\n",
       "      <td>8.215018e+07</td>\n",
       "      <td>4.000000e+07</td>\n",
       "      <td>122.060000</td>\n",
       "    </tr>\n",
       "    <tr>\n",
       "      <td>75%</td>\n",
       "      <td>2.774484e+08</td>\n",
       "      <td>1.000000e+08</td>\n",
       "      <td>333.470000</td>\n",
       "    </tr>\n",
       "    <tr>\n",
       "      <td>max</td>\n",
       "      <td>2.147484e+09</td>\n",
       "      <td>5.000000e+08</td>\n",
       "      <td>24900.000000</td>\n",
       "    </tr>\n",
       "  </tbody>\n",
       "</table>\n",
       "</div>"
      ],
      "text/plain": [
       "            revenue        budget           roi\n",
       "count  1.113000e+03  1.113000e+03   1113.000000\n",
       "mean   2.100953e+08  6.476563e+07    347.211429\n",
       "std    3.009948e+08  6.500866e+07   1222.363192\n",
       "min    2.425000e+04  5.000000e+04    -99.780000\n",
       "25%    1.797974e+07  1.400000e+07      3.930000\n",
       "50%    8.215018e+07  4.000000e+07    122.060000\n",
       "75%    2.774484e+08  1.000000e+08    333.470000\n",
       "max    2.147484e+09  5.000000e+08  24900.000000"
      ]
     },
     "execution_count": 9,
     "metadata": {},
     "output_type": "execute_result"
    }
   ],
   "source": [
    "cursor.execute(\"\"\"\n",
    "SELECT\n",
    "\ttitle,\n",
    "    revenue,\n",
    "    budget,\n",
    "    roi,\n",
    "    release_date\n",
    "FROM\n",
    "\tmovies.tmdb_adventure\n",
    "WHERE\n",
    "\tbudget >= 50000\n",
    "ORDER BY\n",
    "    roi DESC\n",
    ";\n",
    "\"\"\")\n",
    "\n",
    "adventure_data = cursor.fetchall()\n",
    "column_names = ['title', 'revenue', 'budget', 'roi', 'release_date']\n",
    "df_adventure = pd.DataFrame(adventure_data,columns=column_names)\n",
    "df_adventure.describe()"
   ]
  },
  {
   "cell_type": "code",
   "execution_count": 10,
   "metadata": {},
   "outputs": [],
   "source": [
    "#calc average ROI\n",
    "roi_ad = df_adventure['roi'].mean()"
   ]
  },
  {
   "cell_type": "markdown",
   "metadata": {},
   "source": [
    "Query 4: Grab all action movies with budget > 50,000. Order by descending ROIs"
   ]
  },
  {
   "cell_type": "code",
   "execution_count": 11,
   "metadata": {},
   "outputs": [
    {
     "data": {
      "text/html": [
       "<div>\n",
       "<style scoped>\n",
       "    .dataframe tbody tr th:only-of-type {\n",
       "        vertical-align: middle;\n",
       "    }\n",
       "\n",
       "    .dataframe tbody tr th {\n",
       "        vertical-align: top;\n",
       "    }\n",
       "\n",
       "    .dataframe thead th {\n",
       "        text-align: right;\n",
       "    }\n",
       "</style>\n",
       "<table border=\"1\" class=\"dataframe\">\n",
       "  <thead>\n",
       "    <tr style=\"text-align: right;\">\n",
       "      <th></th>\n",
       "      <th>revenue</th>\n",
       "      <th>budget</th>\n",
       "      <th>roi</th>\n",
       "    </tr>\n",
       "  </thead>\n",
       "  <tbody>\n",
       "    <tr>\n",
       "      <td>count</td>\n",
       "      <td>1.620000e+03</td>\n",
       "      <td>1.620000e+03</td>\n",
       "      <td>1620.000000</td>\n",
       "    </tr>\n",
       "    <tr>\n",
       "      <td>mean</td>\n",
       "      <td>1.453119e+08</td>\n",
       "      <td>4.979605e+07</td>\n",
       "      <td>299.896228</td>\n",
       "    </tr>\n",
       "    <tr>\n",
       "      <td>std</td>\n",
       "      <td>2.431106e+08</td>\n",
       "      <td>5.642380e+07</td>\n",
       "      <td>1232.731029</td>\n",
       "    </tr>\n",
       "    <tr>\n",
       "      <td>min</td>\n",
       "      <td>6.325420e+05</td>\n",
       "      <td>6.900000e+04</td>\n",
       "      <td>-98.840000</td>\n",
       "    </tr>\n",
       "    <tr>\n",
       "      <td>25%</td>\n",
       "      <td>1.234734e+07</td>\n",
       "      <td>9.500000e+06</td>\n",
       "      <td>2.515000</td>\n",
       "    </tr>\n",
       "    <tr>\n",
       "      <td>50%</td>\n",
       "      <td>5.245100e+07</td>\n",
       "      <td>3.000000e+07</td>\n",
       "      <td>110.445000</td>\n",
       "    </tr>\n",
       "    <tr>\n",
       "      <td>75%</td>\n",
       "      <td>1.611758e+08</td>\n",
       "      <td>7.000000e+07</td>\n",
       "      <td>291.295000</td>\n",
       "    </tr>\n",
       "    <tr>\n",
       "      <td>max</td>\n",
       "      <td>2.147484e+09</td>\n",
       "      <td>5.000000e+08</td>\n",
       "      <td>26150.000000</td>\n",
       "    </tr>\n",
       "  </tbody>\n",
       "</table>\n",
       "</div>"
      ],
      "text/plain": [
       "            revenue        budget           roi\n",
       "count  1.620000e+03  1.620000e+03   1620.000000\n",
       "mean   1.453119e+08  4.979605e+07    299.896228\n",
       "std    2.431106e+08  5.642380e+07   1232.731029\n",
       "min    6.325420e+05  6.900000e+04    -98.840000\n",
       "25%    1.234734e+07  9.500000e+06      2.515000\n",
       "50%    5.245100e+07  3.000000e+07    110.445000\n",
       "75%    1.611758e+08  7.000000e+07    291.295000\n",
       "max    2.147484e+09  5.000000e+08  26150.000000"
      ]
     },
     "execution_count": 11,
     "metadata": {},
     "output_type": "execute_result"
    }
   ],
   "source": [
    "cursor.execute(\"\"\"\n",
    "SELECT\n",
    "\ttitle,\n",
    "    revenue,\n",
    "    budget,\n",
    "    roi,\n",
    "    release_date\n",
    "FROM\n",
    "\tmovies.tmdb_action\n",
    "WHERE\n",
    "\tbudget >= 50000\n",
    "ORDER BY\n",
    "    roi DESC\n",
    ";\n",
    "\"\"\")\n",
    "\n",
    "action_data = cursor.fetchall()\n",
    "column_names = ['title', 'revenue', 'budget', 'roi', 'release_date']\n",
    "df_action = pd.DataFrame(action_data,columns=column_names)\n",
    "df_action.describe()"
   ]
  },
  {
   "cell_type": "code",
   "execution_count": 12,
   "metadata": {},
   "outputs": [],
   "source": [
    "#calc average ROI\n",
    "roi_ac = df_action['roi'].mean()"
   ]
  },
  {
   "cell_type": "markdown",
   "metadata": {},
   "source": [
    "Add ROIs as list of dictionaries."
   ]
  },
  {
   "cell_type": "code",
   "execution_count": 13,
   "metadata": {},
   "outputs": [],
   "source": [
    "rois = [\n",
    "    {'genre': 'Comedy', 'roi': roi_c},\n",
    "    {'genre': 'Adventure', 'roi': roi_ad},\n",
    "    {'genre': 'Action', 'roi': roi_ac},\n",
    "    {'genre': 'Horror', 'roi': roi_h}\n",
    "]"
   ]
  },
  {
   "cell_type": "markdown",
   "metadata": {},
   "source": [
    "Create bar chart"
   ]
  },
  {
   "cell_type": "code",
   "execution_count": 14,
   "metadata": {},
   "outputs": [],
   "source": [
    "import seaborn as sns\n",
    "sns.set_style('whitegrid')"
   ]
  },
  {
   "cell_type": "code",
   "execution_count": 15,
   "metadata": {},
   "outputs": [
    {
     "data": {
      "image/png": "[encoded data removed]",
      "text/plain": [
       "<Figure size 720x576 with 1 Axes>"
      ]
     },
     "metadata": {},
     "output_type": "display_data"
    }
   ],
   "source": [
    "fig2 = plt.figure(figsize=(10,8))\n",
    "ax_avgroi = fig2.add_subplot(111)\n",
    "ax_avgroi.set_title('Average ROI for All Movies*', {'fontsize': 18})\n",
    "ax_avgroi.set_ylim(0, 800)\n",
    "\n",
    "for roi in rois:\n",
    "    ax_avgroi.bar(roi['genre'], roi['roi'], label = roi['genre'])"
   ]
  },
  {
   "cell_type": "code",
   "execution_count": 16,
   "metadata": {},
   "outputs": [],
   "source": [
    "cnx.close()"
   ]
  }
 ],
 "metadata": {
  "kernelspec": {
   "display_name": "Python 3",
   "language": "python",
   "name": "python3"
  },
  "language_info": {
   "codemirror_mode": {
    "name": "ipython",
    "version": 3
   },
   "file_extension": ".py",
   "mimetype": "text/x-python",
   "name": "python",
   "nbconvert_exporter": "python",
   "pygments_lexer": "ipython3",
   "version": "3.7.4"
  }
 },
 "nbformat": 4,
 "nbformat_minor": 2
}
