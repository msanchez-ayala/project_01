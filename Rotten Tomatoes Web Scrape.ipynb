{
 "cells": [
  {
   "cell_type": "markdown",
   "metadata": {},
   "source": [
    "# Rotten Tomatoes Web Scrap"
   ]
  },
  {
   "cell_type": "code",
   "execution_count": 1,
   "metadata": {},
   "outputs": [],
   "source": [
    "import requests\n",
    "from bs4 import BeautifulSoup as BS"
   ]
  },
  {
   "cell_type": "markdown",
   "metadata": {},
   "source": [
    "Start from horror movies webpage and get the urls of each movie to later scrape information from each those individual pages. This is cumbersome because the webpage is rendered with JS, which BS cannot interpret. We therefore have to go in and parse through the data in string form."
   ]
  },
  {
   "cell_type": "code",
   "execution_count": 4,
   "metadata": {},
   "outputs": [],
   "source": [
    "url = 'https://www.rottentomatoes.com/browse/dvd-streaming-all/'\n",
    "headers = {'user-agent': 'Safari/13.0.2 (Macintosh; Intel Mac OS X 10_15)'}\n",
    "page = requests.get(url,headers=headers, timeout = 5)\n",
    "soup = BS(page.content, 'html.parser')"
   ]
  },
  {
   "cell_type": "code",
   "execution_count": 36,
   "metadata": {},
   "outputs": [],
   "source": [
    "scripts = soup.find('div', class_='container')('script')"
   ]
  },
  {
   "cell_type": "code",
   "execution_count": 138,
   "metadata": {},
   "outputs": [],
   "source": [
    "scripts_text = [script.get_text() for script in scripts]"
   ]
  },
  {
   "cell_type": "code",
   "execution_count": 46,
   "metadata": {},
   "outputs": [],
   "source": [
    "script = str([x for x in scripts_text if '\\\"title\\\"' in x])"
   ]
  },
  {
   "cell_type": "code",
   "execution_count": 56,
   "metadata": {},
   "outputs": [],
   "source": [
    "movies_str = script[script.find('[{\"id')+1:script.find('}],\\\\n')+2]"
   ]
  },
  {
   "cell_type": "code",
   "execution_count": 137,
   "metadata": {},
   "outputs": [],
   "source": [
    "movies_list = movies_str.split('},{')"
   ]
  },
  {
   "cell_type": "code",
   "execution_count": 131,
   "metadata": {},
   "outputs": [],
   "source": [
    "movies_info = []\n",
    "for movie in movies_list:\n",
    "    id_str = movie[movie.find('\"id\"')+5:movie.find(',')]\n",
    "    url_str = movie[movie.find('\"url\"')+7:movie.find('\",',movie.find('url')+7)]\n",
    "    movies_info.append({'id':id_str, 'url':url_str})"
   ]
  },
  {
   "cell_type": "code",
   "execution_count": 132,
   "metadata": {},
   "outputs": [
    {
     "data": {
      "text/plain": [
       "[{'id': '19919', 'url': '/m/the_return_of_martin_guerre'},\n",
       " {'id': '771313371', 'url': '/m/gebo_and_the_shadow'},\n",
       " {'id': '771470508', 'url': '/m/who_killed_cock_robin_2017'},\n",
       " {'id': '771471794', 'url': '/m/the_lion_king_2019'},\n",
       " {'id': '771485689', 'url': '/m/eli_2019'},\n",
       " {'id': '771488900', 'url': '/m/legend_of_the_demon_cat'},\n",
       " {'id': '771493505', 'url': '/m/luce'},\n",
       " {'id': '771497980', 'url': '/m/farming'},\n",
       " {'id': '771498575', 'url': '/m/girl_on_the_third_floor'},\n",
       " {'id': '771498780', 'url': '/m/the_dead_center'},\n",
       " {'id': '771500037', 'url': '/m/rattlesnake'},\n",
       " {'id': '771501654', 'url': '/m/inside_lehman_brothers'},\n",
       " {'id': '771504260', 'url': '/m/fast_and_furious_presents_hobbs_and_shaw'},\n",
       " {'id': '771504293', 'url': '/m/wounds_2019'},\n",
       " {'id': '771504322', 'url': '/m/little_monsters_2019'},\n",
       " {'id': '771504325', 'url': '/m/greener_grass'},\n",
       " {'id': '771504877', 'url': '/m/3_from_hell'},\n",
       " {'id': '771506966', 'url': '/m/the_kill_team_2019'},\n",
       " {'id': '771509806', 'url': '/m/the_influence_2019'},\n",
       " {'id': '771511527', 'url': '/m/dolemite_is_my_name'},\n",
       " {'id': '771511529', 'url': '/m/the_laundromat'},\n",
       " {'id': '771512300', 'url': '/m/el_camino_a_breaking_bad_movie'},\n",
       " {'id': '771512523', 'url': '/m/tell_me_who_i_am'},\n",
       " {'id': '771512547', 'url': '/m/miss_virginia'},\n",
       " {'id': '771512550', 'url': '/m/lucky_day_2019'},\n",
       " {'id': '771512851', 'url': '/m/portals'},\n",
       " {'id': '771513218', 'url': '/m/seventeen_2019'},\n",
       " {'id': '771513345', 'url': '/m/the_gallows_act_ii'},\n",
       " {'id': '771513365', 'url': '/m/fractured'},\n",
       " {'id': '771513368', 'url': '/m/jenny_slate_stage_fright'},\n",
       " {'id': '771513547', 'url': '/m/trick_2019'},\n",
       " {'id': '771513562', 'url': '/m/the_forest_of_love'}]"
      ]
     },
     "execution_count": 132,
     "metadata": {},
     "output_type": "execute_result"
    }
   ],
   "source": [
    "movies_info"
   ]
  },
  {
   "cell_type": "code",
   "execution_count": null,
   "metadata": {},
   "outputs": [],
   "source": []
  }
 ],
 "metadata": {
  "kernelspec": {
   "display_name": "Python 3",
   "language": "python",
   "name": "python3"
  },
  "language_info": {
   "codemirror_mode": {
    "name": "ipython",
    "version": 3
   },
   "file_extension": ".py",
   "mimetype": "text/x-python",
   "name": "python",
   "nbconvert_exporter": "python",
   "pygments_lexer": "ipython3",
   "version": "3.7.4"
  }
 },
 "nbformat": 4,
 "nbformat_minor": 2
}
