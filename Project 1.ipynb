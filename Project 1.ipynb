{
 "cells": [
  {
   "cell_type": "code",
   "execution_count": null,
   "metadata": {},
   "outputs": [],
   "source": []
  },
  {
   "cell_type": "code",
   "execution_count": 32,
   "metadata": {},
   "outputs": [],
   "source": [
    "# %load tMDB_genre_ids.py\n",
    "genres = {\n",
    "  \"genres\": [\n",
    "    {\"id\": 28, \"name\": \"Action\"},\n",
    "    {\"id\": 12, \"name\": \"Adventure\"},\n",
    "    {\"id\": 16, \"name\": \"Animation\"},\n",
    "    {\"id\": 35, \"name\": \"Comedy\"},\n",
    "    {\"id\": 80, \"name\": \"Crime\"},\n",
    "    {\"id\": 99, \"name\": \"Documentary\"},\n",
    "    {\"id\": 18, \"name\": \"Drama\"},\n",
    "    {\"id\": 10751, \"name\": \"Family\"},\n",
    "    {\"id\": 14, \"name\": \"Fantasy\"},\n",
    "    {\"id\": 36, \"name\": \"History\"},\n",
    "    {\"id\": 27, \"name\": \"Horror\"},\n",
    "    {\"id\": 10402, \"name\": \"Music\"},\n",
    "    {\"id\": 9648, \"name\": \"Mystery\"},\n",
    "    {\"id\": 10749, \"name\": \"Romance\"},\n",
    "    {\"id\": 878, \"name\": \"Science Fiction\"},\n",
    "    {\"id\": 10770, \"name\": \"TV Movie\"},\n",
    "    {\"id\": 53, \"name\": \"Thriller\"},\n",
    "    {\"id\": 10752, \"name\": \"War\"},\n",
    "    {\"id\": 37, \"name\": \"Western\"}\n",
    "  ]\n",
    "}\n",
    "\n",
    "# grab the genre ids for the api calls\n",
    "genres_ids = []\n",
    "for genre in genres['genres']:\n",
    "    genres_ids.append(genre['id'])"
   ]
  },
  {
   "cell_type": "code",
   "execution_count": 21,
   "metadata": {},
   "outputs": [],
   "source": [
    "# API Permission Info\n",
    "api_key = '91011d12ab785b50295a8f31e8f78a6b'"
   ]
  },
  {
   "cell_type": "code",
   "execution_count": null,
   "metadata": {},
   "outputs": [],
   "source": [
    "# Make call for movies\n",
    "import requests\n",
    "\n",
    "for i_d in genre_ids:\n",
    "    url = 'https://api.themoviedb.org/discover/movie?with_genres={}&sort_by=revenue?api_key={}'.format(i_d, api_key)\n",
    "    response = requests.get(url)\n",
    "    \n",
    "    "
   ]
  },
  {
   "cell_type": "code",
   "execution_count": null,
   "metadata": {},
   "outputs": [],
   "source": [
    "import pandas as pd\n",
    "\n",
    "df = pd.DataFrame(tMDB_data)"
   ]
  },
  {
   "cell_type": "code",
   "execution_count": null,
   "metadata": {},
   "outputs": [],
   "source": []
  }
 ],
 "metadata": {
  "kernelspec": {
   "display_name": "Python 3",
   "language": "python",
   "name": "python3"
  },
  "language_info": {
   "codemirror_mode": {
    "name": "ipython",
    "version": 3
   },
   "file_extension": ".py",
   "mimetype": "text/x-python",
   "name": "python",
   "nbconvert_exporter": "python",
   "pygments_lexer": "ipython3",
   "version": "3.7.3"
  }
 },
 "nbformat": 4,
 "nbformat_minor": 2
}
