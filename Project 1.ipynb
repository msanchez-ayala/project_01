{
 "cells": [
  {
   "cell_type": "code",
   "execution_count": null,
   "metadata": {},
   "outputs": [],
   "source": []
  },
  {
   "cell_type": "code",
   "execution_count": 32,
   "metadata": {},
   "outputs": [],
   "source": [
    "# %load tMDB_genre_ids.py\n",
    "genres = {\n",
    "  \"genres\": [\n",
    "    {\"id\": 28, \"name\": \"Action\"},\n",
    "    {\"id\": 12, \"name\": \"Adventure\"},\n",
    "    {\"id\": 16, \"name\": \"Animation\"},\n",
    "    {\"id\": 35, \"name\": \"Comedy\"},\n",
    "    {\"id\": 80, \"name\": \"Crime\"},\n",
    "    {\"id\": 99, \"name\": \"Documentary\"},\n",
    "    {\"id\": 18, \"name\": \"Drama\"},\n",
    "    {\"id\": 10751, \"name\": \"Family\"},\n",
    "    {\"id\": 14, \"name\": \"Fantasy\"},\n",
    "    {\"id\": 36, \"name\": \"History\"},\n",
    "    {\"id\": 27, \"name\": \"Horror\"},\n",
    "    {\"id\": 10402, \"name\": \"Music\"},\n",
    "    {\"id\": 9648, \"name\": \"Mystery\"},\n",
    "    {\"id\": 10749, \"name\": \"Romance\"},\n",
    "    {\"id\": 878, \"name\": \"Science Fiction\"},\n",
    "    {\"id\": 10770, \"name\": \"TV Movie\"},\n",
    "    {\"id\": 53, \"name\": \"Thriller\"},\n",
    "    {\"id\": 10752, \"name\": \"War\"},\n",
    "    {\"id\": 37, \"name\": \"Western\"}\n",
    "  ]\n",
    "}\n",
    "\n",
    "# grab the genre ids for the api calls\n",
    "genres_ids = []\n",
    "for genre in genres['genres']:\n",
    "    genres_ids.append(genre['id'])"
   ]
  },
  {
   "cell_type": "code",
   "execution_count": 35,
   "metadata": {},
   "outputs": [],
   "source": [
    "# %load tMDB_certifications\n",
    "certifications = {\n",
    "  \"certifications\": [\n",
    "      {\n",
    "        \"certification\": \"G\",\n",
    "        \"meaning\": \"All ages admitted. There is no content that would be objectionable to most parents. This is one of only two ratings dating back to 1968 that still exists today.\",\n",
    "        \"order\": 1\n",
    "      },\n",
    "\n",
    "      {\n",
    "        \"certification\": \"PG-13\",\n",
    "        \"meaning\": \"Some material may be inappropriate for children under 13. Films given this rating may contain sexual content, brief or partial nudity, some strong language and innuendo, humor, mature themes, political themes, terror and/or intense action violence. However, bloodshed is rarely present. This is the minimum rating at which drug content is present.\",\n",
    "        \"order\": 3\n",
    "      },\n",
    "\n",
    "      {\n",
    "        \"certification\": \"R\",\n",
    "        \"meaning\": \"Under 17 requires accompanying parent or adult guardian 21 or older. The parent/guardian is required to stay with the child under 17 through the entire movie, even if the parent gives the child/teenager permission to see the film alone. These films may contain strong profanity, graphic sexuality, nudity, strong violence, horror, gore, and strong drug use. A movie rated R for profanity often has more severe or frequent language than the PG-13 rating would permit. An R-rated movie may have more blood, gore, drug use, nudity, or graphic sexuality than a PG-13 movie would admit.\",\n",
    "        \"order\": 4\n",
    "      },\n",
    "\n",
    "      {\n",
    "        \"certification\": \"NR\",\n",
    "        \"meaning\": \"No rating information.\",\n",
    "        \"order\": 0\n",
    "      },\n",
    "      \n",
    "    ]\n",
    "}\n",
    "\n",
    "ratings = []\n",
    "for certification in certifications['certifications']:\n",
    "    ratings.append(certification['certification'])"
   ]
  },
  {
   "cell_type": "code",
   "execution_count": 36,
   "metadata": {},
   "outputs": [
    {
     "data": {
      "text/plain": [
       "['G', 'PG-13', 'R', 'NR', 'PG']"
      ]
     },
     "execution_count": 36,
     "metadata": {},
     "output_type": "execute_result"
    }
   ],
   "source": [
    "ratings"
   ]
  },
  {
   "cell_type": "code",
   "execution_count": 21,
   "metadata": {},
   "outputs": [],
   "source": [
    "# API Permission Info\n",
    "api_key = '91011d12ab785b50295a8f31e8f78a6b'"
   ]
  },
  {
   "cell_type": "code",
   "execution_count": null,
   "metadata": {},
   "outputs": [],
   "source": [
    "# Make call for movies\n",
    "import requests\n",
    "\n",
    "for i_d in genre_ids:\n",
    "    url = 'https://api.themoviedb.org/discover/movie?with_genres={}&sort_by=revenue?api_key={}'.format(i_d, api_key)\n",
    "    response = requests.get(url)\n",
    "    \n",
    "    "
   ]
  },
  {
   "cell_type": "code",
   "execution_count": null,
   "metadata": {},
   "outputs": [],
   "source": [
    "import pandas as pd\n",
    "\n",
    "df = pd.DataFrame(tMDB_data)"
   ]
  },
  {
   "cell_type": "code",
   "execution_count": null,
   "metadata": {},
   "outputs": [],
   "source": []
  }
 ],
 "metadata": {
  "kernelspec": {
   "display_name": "Python 3",
   "language": "python",
   "name": "python3"
  },
  "language_info": {
   "codemirror_mode": {
    "name": "ipython",
    "version": 3
   },
   "file_extension": ".py",
   "mimetype": "text/x-python",
   "name": "python",
   "nbconvert_exporter": "python",
   "pygments_lexer": "ipython3",
   "version": "3.7.3"
  }
 },
 "nbformat": 4,
 "nbformat_minor": 2
}
