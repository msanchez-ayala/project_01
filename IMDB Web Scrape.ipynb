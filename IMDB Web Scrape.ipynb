{
 "cells": [
  {
   "cell_type": "markdown",
   "metadata": {},
   "source": [
    "#                                              IMDB Web Scrape"
   ]
  },
  {
   "cell_type": "markdown",
   "metadata": {},
   "source": [
    "## Define Functions to Scrape and Parse IMDB for Top 2000 Horror Movies"
   ]
  },
  {
   "cell_type": "code",
   "execution_count": 378,
   "metadata": {},
   "outputs": [],
   "source": [
    "import requests\n",
    "import time\n",
    "from bs4 import BeautifulSoup as BS"
   ]
  },
  {
   "cell_type": "code",
   "execution_count": 379,
   "metadata": {},
   "outputs": [],
   "source": [
    "def remove_comma_int(comma_str):\n",
    "    \"\"\"\n",
    "    Helper function.\n",
    "    Returns: An it from a numerical string that contains commas. Meant to remove commas from imdb rank\n",
    "    '1,000' --> 1000\n",
    "    Param comma_str: [str] is a numerical string that may or may not contain a comma\n",
    "    \"\"\"\n",
    "    if comma_str.find(',') == -1:\n",
    "        return int(comma_str)\n",
    "    else:\n",
    "        place = comma_str.find(',')\n",
    "        return int(comma_str[:place] + comma_str[place + 1:])\n",
    "\n",
    "        \n",
    "def get_page(url,headers):\n",
    "    \"\"\"\n",
    "    Returns: List of 50 IMDB html tags representing each one movie block from the specified url.\n",
    "    Param url: [str] IMDB url to search on.\n",
    "    Param headers: [str] headers to pass into requests.get so that IMDB knows we are not russian hackers.\n",
    "    \"\"\"\n",
    "    try:\n",
    "        page = requests.get(url,headers=headers, timeout = 5)\n",
    "        if page.status_code != 200:\n",
    "            print(page.status_code)\n",
    "            \n",
    "    except requests.ConnectionError as e:\n",
    "        print(\"OOPS!! Connection Error. Make sure you are connected to Internet. Technical Details given below.\\n\")\n",
    "        print(str(e))\n",
    "    except requests.Timeout as e:\n",
    "        print(\"OOPS!! Timeout Error\")\n",
    "        print(str(e))\n",
    "    except requests.RequestException as e:\n",
    "        print(\"OOPS!! General Error\")\n",
    "        print(str(e))\n",
    "    except KeyboardInterrupt:\n",
    "        print(\"Someone closed the program\") \n",
    "    \n",
    "    soup = BS(page.content, 'html.parser')\n",
    "    \n",
    "    return  soup.find(class_='lister list detail sub-list').find_all(class_='lister-item mode-advanced')\n",
    "\n",
    "def all_pages(url, headers):\n",
    "    \"\"\"\n",
    "    Runs get_page(url, headers) multiple times.\n",
    "    Param url: [str] IMDB url to search on.\n",
    "    Param headers: [str] headers to pass into requests.get so that IMDB knows we are not russian hackers.\n",
    "    \"\"\"\n",
    "    base_url = 'https://www.imdb.com/search/title/?title_type=feature,tv_movie&genres=horror&'\n",
    "    suffix = 'view=advanced'\n",
    "    cur = 1\n",
    "    results = []\n",
    "    while cur < 2000:\n",
    "        if cur == 1:\n",
    "            results.extend(get_page(base_url, headers))\n",
    "        elif cur > 1:\n",
    "            suffix = 'start={}&ref_=adv_nxt'.format(cur)\n",
    "            results.extend(get_page(base_url + suffix, headers))\n",
    "        time.sleep(0.5)\n",
    "        cur += 50\n",
    "    return results\n",
    "\n",
    "def parse_data(movies):\n",
    "    \"\"\"\n",
    "    Parses through the raw html movie blocks from the data call to return usable results.\n",
    "    Returns: List of dictionaries each including the keys described below. \n",
    "    Param movies: [list] of IMDB html tags, each element representing individual movies.        \n",
    "    \"\"\"\n",
    "    movies_details = []\n",
    "    for movie in movies:\n",
    "        movie_details = {}\n",
    "        \n",
    "        movie_details['imdb_rank'] = remove_comma_int(movie.find('span',{'class':'lister-item-index unbold text-primary'}).text[:-1]) # Popularity rank within Horror genre from 29,461 titles\n",
    "        movie_details['imdb_id'] = movie.find('div',{'class':'ribbonize'})['data-tconst'] # IMDB id [str]\n",
    "#         movie_details['url'] = 'www.imdb.com/' + movie.find('a')['href'] # Movie's url [str]\n",
    "        movie_details['title'] = movie.find('img')['alt'] # Title [str]\n",
    "        movie_details['genre'] = movie.find('span',{'class':'genre'}).text.strip().split(', ') # Genres [list of strs]\n",
    "        \n",
    "        try:\n",
    "            movie_details['metacritic_score'] = float(movie.find(class_=['span', 'metascore mixed']).text.strip()) # Metacritic score [str]\n",
    "        except:\n",
    "            movie_details['metacritic_score'] = None\n",
    "        try:\n",
    "            movie_details['imdb_score'] = float(movie.find('strong').text) # IMDB score [str]\n",
    "        except:\n",
    "            movie_details['imdb_score'] = None\n",
    "        try:\n",
    "            movie_details['votes'] = movie.find_all('span', {'name':'nv'})[0]['data-value'] # No. of votes [str]\n",
    "        except:\n",
    "            movie_details['votes'] = None\n",
    "        try:\n",
    "            movie_details['director'] = movie.find('p',{'class':''}).find('a').text # Director name [str]\n",
    "        except:\n",
    "            movie_details['director'] = None\n",
    "        try:\n",
    "            movie_details['length'] = movie.find('span',{'class':'runtime'}).text.split()[0] # Movie length in minutes [str]\n",
    "        except:\n",
    "            movie_details['length'] = None\n",
    "        movies_details.append(movie_details)\n",
    "    return movies_details\n"
   ]
  },
  {
   "cell_type": "markdown",
   "metadata": {},
   "source": [
    "## Commands for Storing Data in Local Memory"
   ]
  },
  {
   "cell_type": "code",
   "execution_count": 332,
   "metadata": {},
   "outputs": [],
   "source": [
    "url = 'https://www.imdb.com/search/title/?title_type=feature,tv_movie&genres=horror&view=advanced'\n",
    "headers = {'user-agent': 'Safari/13.0.2 (Macintosh; Intel Mac OS X 10_15)'}\n",
    "saved_all_pages = all_pages(url, headers)"
   ]
  },
  {
   "cell_type": "code",
   "execution_count": 366,
   "metadata": {},
   "outputs": [],
   "source": [
    "saved_parsed_data = parse_data(saved_all_pages)"
   ]
  },
  {
   "cell_type": "code",
   "execution_count": 367,
   "metadata": {},
   "outputs": [
    {
     "data": {
      "text/plain": [
       "{'imdb_rank': 1061,\n",
       " 'imdb_id': 'tt5114154',\n",
       " 'title': 'The Keeping Hours',\n",
       " 'genre': ['Drama', 'Fantasy', 'Horror'],\n",
       " 'metacritic_score': None,\n",
       " 'imdb_score': 6.2,\n",
       " 'votes': '2442',\n",
       " 'director': 'Karen Moncrieff',\n",
       " 'length': '91'}"
      ]
     },
     "execution_count": 367,
     "metadata": {},
     "output_type": "execute_result"
    }
   ],
   "source": [
    "saved_parsed_data[1060]"
   ]
  },
  {
   "cell_type": "markdown",
   "metadata": {},
   "source": [
    "# Create Tables"
   ]
  },
  {
   "cell_type": "markdown",
   "metadata": {},
   "source": [
    "### Import necessary packages and then connect to movies db"
   ]
  },
  {
   "cell_type": "code",
   "execution_count": 426,
   "metadata": {},
   "outputs": [],
   "source": [
    "## Connect to DB server on AWS\n",
    "import mysql.connector \n",
    "import marco\n",
    "import requests\n",
    "\n",
    "cnx = mysql.connector.connect(\n",
    "    host = marco.host,\n",
    "    user = marco.user,\n",
    "    passwd = marco.password\n",
    ")\n",
    "cursor = cnx.cursor()"
   ]
  },
  {
   "cell_type": "code",
   "execution_count": 427,
   "metadata": {},
   "outputs": [],
   "source": [
    "from mysql.connector import errorcode\n",
    "db_name = 'movies'\n",
    "def create_database(cursor, database):\n",
    "    try:\n",
    "        cursor.execute(\n",
    "            \"CREATE DATABASE {} DEFAULT CHARACTER SET 'utf8'\".format(database))\n",
    "    except mysql.connector.Error as err:\n",
    "        print(\"Failed creating database: {}\".format(err))\n",
    "        exit(1)\n",
    "\n",
    "try:\n",
    "    cursor.execute(\"USE {}\".format(db_name))\n",
    "except mysql.connector.Error as err:\n",
    "    print(\"Database {} does not exists.\".format(db_name))\n",
    "    if err.errno == errorcode.ER_BAD_DB_ERROR:\n",
    "        create_database(cursor, db_name)\n",
    "        print(\"Database {} created successfully.\".format(db_name))\n",
    "        cnx.database = db_name\n",
    "    else:\n",
    "        print(err)\n",
    "        exit(1)"
   ]
  },
  {
   "cell_type": "markdown",
   "metadata": {},
   "source": [
    "### Create imdb table"
   ]
  },
  {
   "cell_type": "code",
   "execution_count": 342,
   "metadata": {},
   "outputs": [],
   "source": [
    "create_imdb_query = \"\"\"\n",
    "CREATE TABLE imdb (\n",
    "    imdb_id varchar(20) NOT NULL UNIQUE,\n",
    "    imbd_rank int(10) NOT NULL UNIQUE,\n",
    "    imdb_score float(10),\n",
    "    metacritic_score float(20),\n",
    "    votes int(40),\n",
    "    director varchar(50),\n",
    "    length int(20),\n",
    "    CONSTRAINT imdb_id PRIMARY KEY (imdb_id)\n",
    "    );\n",
    "\n",
    "\"\"\"\n",
    "cursor.execute(create_imdb_query)"
   ]
  },
  {
   "cell_type": "markdown",
   "metadata": {},
   "source": [
    "### Create genres table"
   ]
  },
  {
   "cell_type": "code",
   "execution_count": 435,
   "metadata": {},
   "outputs": [],
   "source": [
    "create_genres_query = \"\"\"\n",
    "CREATE TABLE genres (\n",
    "    imdb_id varchar(20) NOT NULL,\n",
    "    genre varchar(15) NOT NULL\n",
    "    CONSTRAINT imdb_id FOREIGN KEY (imdb_id) REFERENCES imdb (imdb_id)\n",
    "    );\n",
    "\"\"\"\n",
    "cursor.execute(create_genres_query)"
   ]
  },
  {
   "cell_type": "markdown",
   "metadata": {},
   "source": [
    "### Could in theory create both tables at once"
   ]
  },
  {
   "cell_type": "code",
   "execution_count": null,
   "metadata": {},
   "outputs": [],
   "source": [
    "#cursor.executemany([create_imdb_query,create_genres_query])"
   ]
  },
  {
   "cell_type": "markdown",
   "metadata": {},
   "source": [
    "# Insert Data into imdb Table"
   ]
  },
  {
   "cell_type": "code",
   "execution_count": 376,
   "metadata": {},
   "outputs": [],
   "source": [
    "def insert_imdb(parsed_movies):\n",
    "    \"\"\"\n",
    "    Inserts movie data into movies.imdb database on MySQL.\n",
    "    Param parsed_movies: [list] List of dicts containing all of the required keys outlined below.\n",
    "    \"\"\"\n",
    "    parsed_tuples =  [(parsed_movie['imdb_id'],\n",
    "                       parsed_movie['imdb_rank'],\n",
    "                       parsed_movie['imdb_score'],\n",
    "                       parsed_movie['metacritic_score'],\n",
    "                       parsed_movie['votes'],\n",
    "                       parsed_movie['director'],\n",
    "                       parsed_movie['length']) for parsed_movie in parsed_movies]\n",
    "    \n",
    "    insert_statement = \"INSERT INTO imdb (imdb_id, imbd_rank, imdb_score, metacritic_score, votes, director, length) VALUES (%s, %s, %s, %s, %s, %s, %s)\"\n",
    "    cursor.executemany(insert_statement,parsed_tuples)\n",
    "    cnx.commit()"
   ]
  },
  {
   "cell_type": "code",
   "execution_count": 377,
   "metadata": {},
   "outputs": [],
   "source": [
    "insert_imdb(saved_parsed_data)"
   ]
  },
  {
   "cell_type": "markdown",
   "metadata": {},
   "source": [
    "# Format genre Data Structure"
   ]
  },
  {
   "cell_type": "code",
   "execution_count": 436,
   "metadata": {},
   "outputs": [],
   "source": [
    "def make_genre_tuples(movies):\n",
    "    \"\"\"\n",
    "    Helper function\n",
    "    Returns: List of tuples in the form ('imdb_id', 'genre').\n",
    "    Param movies: [list] Parsed list of movie dictionaries at least containing keys ['imdb_id', 'genre'] \n",
    "    \"\"\"\n",
    "    movies_and_genres = [{'imdb_id':movie['imdb_id'], 'genre':movie['genre']} for movie in movies]\n",
    "    genre_tuples = []\n",
    "    for movie_and_genres in movies_and_genres:\n",
    "        for index in range(0,len(movie_and_genres['genre'])):\n",
    "            genre_tuples.append((movie_and_genres['imdb_id'], movie_and_genres['genre'][index]))\n",
    "    return genre_tuples\n",
    "            \n",
    "    \n",
    "    \n",
    "def insert_genres(parsed_movies):\n",
    "    \"\"\"\n",
    "    Inserts movie data into movies.genres database on MySQL.\n",
    "    Param parsed_movies: [list] List of dicts from parse_movies function.\n",
    "    \"\"\"\n",
    "    parsed_tuples = make_genre_tuples(parsed_movies)\n",
    "    insert_statement = \"INSERT INTO genres (imdb_id, genre) VALUES (%s, %s)\"\n",
    "    cursor.executemany(insert_statement,parsed_tuples)\n",
    "    cnx.commit()"
   ]
  },
  {
   "cell_type": "code",
   "execution_count": 437,
   "metadata": {},
   "outputs": [],
   "source": [
    "insert_genres(saved_parsed_data)"
   ]
  },
  {
   "cell_type": "code",
   "execution_count": 383,
   "metadata": {},
   "outputs": [],
   "source": [
    "# cursor.close()\n",
    "# cnx.close()"
   ]
  },
  {
   "cell_type": "code",
   "execution_count": null,
   "metadata": {},
   "outputs": [],
   "source": []
  }
 ],
 "metadata": {
  "kernelspec": {
   "display_name": "Python 3",
   "language": "python",
   "name": "python3"
  },
  "language_info": {
   "codemirror_mode": {
    "name": "ipython",
    "version": 3
   },
   "file_extension": ".py",
   "mimetype": "text/x-python",
   "name": "python",
   "nbconvert_exporter": "python",
   "pygments_lexer": "ipython3",
   "version": "3.7.3"
  }
 },
 "nbformat": 4,
 "nbformat_minor": 2
}
